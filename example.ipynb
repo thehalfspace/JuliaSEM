{
 "cells": [
  {
   "cell_type": "markdown",
   "metadata": {},
   "source": [
    "<h1><center> Serial code for comparison"
   ]
  },
  {
   "cell_type": "code",
   "execution_count": 1,
   "metadata": {},
   "outputs": [],
   "source": [
    "#@everywhere using DistributedArrays\n",
    "using LinearAlgebra\n",
    "#using SharedArrays"
   ]
  },
  {
   "cell_type": "code",
   "execution_count": 2,
   "metadata": {},
   "outputs": [],
   "source": [
    "using JLD2\n",
    "using Printf"
   ]
  },
  {
   "cell_type": "markdown",
   "metadata": {},
   "source": [
    "# Distributed CG"
   ]
  },
  {
   "cell_type": "code",
   "execution_count": 3,
   "metadata": {},
   "outputs": [
    {
     "data": {
      "text/plain": [
       "NRsearch (generic function with 1 method)"
      ]
     },
     "execution_count": 3,
     "metadata": {},
     "output_type": "execute_result"
    }
   ],
   "source": [
    "#include(\"GetGLL.jl\")            #   Polynomial interpolation                                    \n",
    "#include(\"MeshBox.jl\")           #   Build 2D mesh                                               \n",
    "#include(\"Assemble.jl\")          #   Assemble mass and stiffness matrix                        \n",
    "#include(\"BoundaryMatrix.jl\")    #   Boundary matrices                                        \n",
    "#include(\"FindNearestNode.jl\")   #   Nearest node for output                          \n",
    "#include(\"initialConditions/defaultInitialConditions.jl\")                                      \n",
    "#include(\"otherFunctions.jl\")    # some other functions to solve for friction\n",
    "include(\"src/parameters/defaultParameters.jl\")\n",
    "include(\"src/setup.jl\")\n",
    "#@everywhere include(\"src/main.jl\")\n",
    "include(\"test02.jl\")\n",
    "include(\"src/PCG2.jl\")\n",
    "include(\"src/dtevol.jl\")\n",
    "include(\"src/NRsearch.jl\")"
   ]
  },
  {
   "cell_type": "code",
   "execution_count": 4,
   "metadata": {},
   "outputs": [],
   "source": [
    "P = parameters()\n",
    "S = setup(P);"
   ]
  },
  {
   "cell_type": "code",
   "execution_count": 5,
   "metadata": {},
   "outputs": [
    {
     "name": "stdout",
     "output_type": "stream",
     "text": [
      "  5.143395 seconds (12.54 M allocations: 4.511 GiB, 11.82% gc time)\n"
     ]
    }
   ],
   "source": [
    "@time dnew = main(P,S);"
   ]
  },
  {
   "cell_type": "code",
   "execution_count": 6,
   "metadata": {},
   "outputs": [
    {
     "data": {
      "text/plain": [
       "9680-element Array{Float64,1}:\n",
       " 1.1108380050683533e-7\n",
       " 1.111077980271665e-7 \n",
       " 1.1126053741487182e-7\n",
       " 1.1157145254824904e-7\n",
       " 1.1178915135304701e-7\n",
       " 3.21531403807465e-7  \n",
       " 3.2158279671905535e-7\n",
       " 3.220313317377828e-7 \n",
       " 3.2291875728446535e-7\n",
       " 3.2357929844005636e-7\n",
       " 5.315648255041495e-7 \n",
       " 5.316672237357883e-7 \n",
       " 5.324000906983722e-7 \n",
       " ⋮                    \n",
       " 1.4882126153732267e-5\n",
       " 1.4890578788757217e-5\n",
       " 1.4894898792016853e-5\n",
       " 1.4895491700128346e-5\n",
       " 1.4878357824717068e-5\n",
       " 1.4886830833135098e-5\n",
       " 1.4891117751174007e-5\n",
       " 1.489170945777222e-5 \n",
       " 1.4877845542454206e-5\n",
       " 1.4886311540250148e-5\n",
       " 1.4890604860877588e-5\n",
       " 1.489116636790825e-5 "
      ]
     },
     "execution_count": 6,
     "metadata": {},
     "output_type": "execute_result"
    }
   ],
   "source": [
    "dnew"
   ]
  },
  {
   "cell_type": "code",
   "execution_count": null,
   "metadata": {},
   "outputs": [],
   "source": []
  },
  {
   "cell_type": "code",
   "execution_count": null,
   "metadata": {},
   "outputs": [],
   "source": []
  },
  {
   "cell_type": "code",
   "execution_count": null,
   "metadata": {},
   "outputs": [],
   "source": []
  }
 ],
 "metadata": {
  "kernelspec": {
   "display_name": "Julia 1.0.0",
   "language": "julia",
   "name": "julia-1.0"
  },
  "language_info": {
   "file_extension": ".jl",
   "mimetype": "application/julia",
   "name": "julia",
   "version": "1.0.0"
  }
 },
 "nbformat": 4,
 "nbformat_minor": 2
}
