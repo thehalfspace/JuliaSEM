{
 "cells": [
  {
   "cell_type": "code",
   "execution_count": 52,
   "metadata": {},
   "outputs": [
    {
     "name": "stdout",
     "output_type": "stream",
     "text": [
      "Total number of nodes on fault = 121\n",
      "Average node spacing = 400.0\n",
      "dt = 0.04486312014474891"
     ]
    },
    {
     "name": "stderr",
     "output_type": "stream",
     "text": [
      "WARNING: redefining constant Vo\n",
      "WARNING: redefining constant xLf\n"
     ]
    },
    {
     "name": "stdout",
     "output_type": "stream",
     "text": [
      "\n",
      "Setup Complete\n",
      "  1.965776 seconds (2.51 M allocations: 447.772 MiB, 4.98% gc time)\n"
     ]
    },
    {
     "name": "stderr",
     "output_type": "stream",
     "text": [
      "WARNING: redefining constant iFBC\n",
      "WARNING: redefining constant FltIglobBC\n"
     ]
    }
   ],
   "source": [
    "@time include(\"src/setup.jl\")"
   ]
  },
  {
   "cell_type": "code",
   "execution_count": null,
   "metadata": {},
   "outputs": [],
   "source": [
    "# Plot friction parameters\n",
    "using Gadfly\n",
    "\n",
    "fricPlot = plot(layer(x = (cca-ccb).*1e3 + 10, y = FltX/1e3,Theme(default_color=colorant\"red\"), Geom.point),\n",
    "                layer(x = Seff/1e6, y = FltX/1e3, Theme(default_color=colorant\"deepskyblue\"), Geom.point),\n",
    "                layer(x = tauo/1e6, y = FltX/1e3, Theme(default_color=colorant\"green\"), Geom.point),\n",
    "                Guide.xlabel(\"Scaled (a-b)/ Stress value\"),\n",
    "                Guide.ylabel(\"Depth (m)\"),\n",
    "                Guide.title(\"Rate and state friction/Stress\"),\n",
    "                Coord.Cartesian(ymin=-24))"
   ]
  },
  {
   "cell_type": "code",
   "execution_count": 53,
   "metadata": {},
   "outputs": [
    {
     "name": "stdout",
     "output_type": "stream",
     "text": [
      "\n",
      "Time (yr) = 2.2156e-07\n",
      "Time (yr) = 2.5001e-07"
     ]
    },
    {
     "ename": "LoadError",
     "evalue": "LoadError: \u001b[91mNR SEARCH FAILED!\u001b[39m\nwhile loading /Volumes/GoogleDrive/My Drive/Work/Code/JuliaSEMCycle/src/timesolver.jl, in expression starting on line 18",
     "output_type": "error",
     "traceback": [
      "LoadError: \u001b[91mNR SEARCH FAILED!\u001b[39m\nwhile loading /Volumes/GoogleDrive/My Drive/Work/Code/JuliaSEMCycle/src/timesolver.jl, in expression starting on line 18",
      "",
      "Stacktrace:",
      " [1] \u001b[1mmacro expansion\u001b[22m\u001b[22m at \u001b[1m/Volumes/GoogleDrive/My Drive/Work/Code/JuliaSEMCycle/src/timesolver.jl:176\u001b[22m\u001b[22m [inlined]",
      " [2] \u001b[1manonymous\u001b[22m\u001b[22m at \u001b[1m./<missing>:?\u001b[22m\u001b[22m",
      " [3] \u001b[1minclude_from_node1\u001b[22m\u001b[22m\u001b[1m(\u001b[22m\u001b[22m::String\u001b[1m)\u001b[22m\u001b[22m at \u001b[1m./loading.jl:569\u001b[22m\u001b[22m",
      " [4] \u001b[1minclude\u001b[22m\u001b[22m\u001b[1m(\u001b[22m\u001b[22m::String\u001b[1m)\u001b[22m\u001b[22m at \u001b[1m./sysimg.jl:14\u001b[22m\u001b[22m"
     ]
    }
   ],
   "source": [
    "@time include(\"src/timesolver.jl\")"
   ]
  },
  {
   "cell_type": "code",
   "execution_count": 12,
   "metadata": {},
   "outputs": [
    {
     "name": "stdout",
     "output_type": "stream",
     "text": [
      "Total number of nodes on fault = 121\n",
      "Average node spacing = 400.0\n",
      "dt = 0.04486312014474891"
     ]
    },
    {
     "name": "stderr",
     "output_type": "stream",
     "text": [
      "WARNING: redefining constant Vo\n",
      "WARNING: redefining constant xLf\n"
     ]
    },
    {
     "name": "stdout",
     "output_type": "stream",
     "text": [
      "\n",
      "Setup Complete\n",
      "  2.081373 seconds (2.51 M allocations: 447.816 MiB, 4.81% gc time)\n"
     ]
    },
    {
     "name": "stderr",
     "output_type": "stream",
     "text": [
      "WARNING: redefining constant iFBC\n",
      "WARNING: redefining constant FltIglobBC\n"
     ]
    },
    {
     "data": {
      "text/plain": [
       "1-element Array{Float64,1}:\n",
       " 0.0"
      ]
     },
     "execution_count": 12,
     "metadata": {},
     "output_type": "execute_result"
    }
   ],
   "source": [
    "@time include(\"src/setup.jl\")\n",
    "include(\"src/PCG.jl\")\n",
    "include(\"src/dtevol.jl\")\n",
    "include(\"src/NRsearch.jl\")\n",
    "include(\"src/otherFunctions.jl\")\n",
    "\n",
    "temp = [0.0]"
   ]
  },
  {
   "cell_type": "code",
   "execution_count": 13,
   "metadata": {},
   "outputs": [
    {
     "data": {
      "text/plain": [
       "0"
      ]
     },
     "execution_count": 13,
     "metadata": {},
     "output_type": "execute_result"
    }
   ],
   "source": [
    " vPre = v[:]\n",
    "        dPre = d[:]\n",
    "\n",
    "        Vf0 = 2*v[iFlt] + Vpl\n",
    "        Vf = Vf0[:]\n",
    "\n",
    "        for p1 = 1:2\n",
    "            \n",
    "            # Compute the forcing term\n",
    "            F[:] = 0\n",
    "            F[iFlt] = dPre[iFlt] + v[iFlt]*dt\n",
    "\n",
    "            # Assign previous displacement field as initial guess\n",
    "            dnew = d[FltNI]\n",
    "\n",
    "            # Solve d = K^-1F by PCG\n",
    "            dnew = PCG(coefint1, coefint2, diagKnew, dnew, F, iFlt, FltNI,\n",
    "                          H, Ht, iglob, Nel, nglob, W)\n",
    "            \n",
    "            # update displacement on the medium\n",
    "            d[FltNI] = dnew\n",
    "\n",
    "            # make d = F on the fault\n",
    "            d[iFlt] = F[iFlt]\n",
    "\n",
    "            # Compute on-fault stress\n",
    "            a[:] = 0\n",
    "            for eo = 1:Nel\n",
    "                ig = iglob[:,:,eo]\n",
    "                locall = d[ig]\n",
    "\n",
    "                # Gradients wrt local variables\n",
    "                d_xi = Ht*locall\n",
    "                d_eta = locall*H\n",
    "\n",
    "                # Element contribution\n",
    "                wloc = W[:,:,eo]\n",
    "                d_xi = wloc.*d_xi\n",
    "                d_xi = H*d_xi\n",
    "                d_eta = wloc.*d_eta\n",
    "                d_eta = d_eta*Ht\n",
    "                locall = coefint1*d_xi + coefint2*d_eta\n",
    "\n",
    "                # Assemble into global vector\n",
    "                a[ig] = a[ig] + locall\n",
    "            end\n",
    "\n",
    "            a[FltIglobBC] = 0\n",
    "            tau1 = -a[iFlt]./FltB\n",
    "            \n",
    "# Compute slip-rates on-fault\n",
    "            for jF = 1:FaultNglob-NFBC \n",
    "\n",
    "                j = jF - 1 + NFBC\n",
    "                psi1[j] = IDS(psi[j], psi1[j], dt, Vo[j], xLf[j], Vf[j])\n",
    "\n",
    "                tauAB[j] = tau1[j] + tauo[j]\n",
    "                fa = tauAB[j]/(Seff[j]*cca[j])\n",
    "                help = -(fo[j] + ccb[j]*psi1[j])/cca[j]\n",
    "                help1 = exp(help + fa)\n",
    "                help2 = exp(help - fa)\n",
    "                Vf1[j] = Vo[j]*(help1 - help2) \n",
    "            end\n",
    "            \n",
    "            Vf1[iFBC] = Vpl\n",
    "            Vf = (Vf0 + Vf1)/2\n",
    "            v[iFlt] = 0.5*(Vf - Vpl)\n",
    "\n",
    "        end\n",
    "\n",
    "        psi = psi1[:]\n",
    "        tau = tau1[:]\n",
    "        tau[iFBC] = 0\n",
    "        Vf1[iFBC] = Vpl\n",
    "\n",
    "        v[iFlt] = 0.5*(Vf1 - Vpl)\n",
    "        v[FltNI] = (d[FltNI] - dPre[FltNI])/dt\n",
    "\n",
    "        RHS = a[:]\n",
    "        RHS[iFlt] = RHS[iFlt] - FltB.*tau\n",
    "        RMS = sqrt(sum(RHS.^2)/length(RHS))./maximum(abs.(RHS))\n",
    "        \n",
    "        # Line 731: P_MA: Omitted\n",
    "        a[:] = 0\n",
    "        d[FltIglobBC] = 0\n",
    "        v[FltIglobBC] = 0"
   ]
  },
  {
   "cell_type": "code",
   "execution_count": 14,
   "metadata": {},
   "outputs": [],
   "source": [
    " dPre = d[:]\n",
    "        vPre = v[:]\n",
    "\n",
    "        # Update\n",
    "        d = d + dt*v + (half_dt^2)*a\n",
    "\n",
    "        # Prediction\n",
    "        v = v + half_dt*a\n",
    "        a[:] = 0\n",
    "\n",
    "\n",
    "        # Internal forces -K*d[t+1] stored in global array 'a'\n",
    "        for eo = 1:Nel\n",
    "            \n",
    "            # Switch to local element representation\n",
    "            ig = iglob[:,:,eo]\n",
    "            isETA = eo<=Nel_ETA\n",
    "            if isETA\n",
    "                locall = d[ig] + eta.*v[ig]\n",
    "            else\n",
    "                locall = d[ig]\n",
    "            end\n",
    "            # Gradients wrt local variables\n",
    "            d_xi = Ht*locall\n",
    "            d_eta = locall*H\n",
    "        \n",
    "\n",
    "             # Element contribution\n",
    "            wloc = W[:,:,eo]\n",
    "            d_xi = wloc.*d_xi\n",
    "            d_xi = H*d_xi\n",
    "            d_eta = wloc.*d_eta\n",
    "            d_eta = d_eta*Ht\n",
    "            locall = coefint1*d_xi + coefint2*d_eta\n",
    "\n",
    "            # Assemble into global vector\n",
    "            a[ig] = a[ig] - locall\n",
    "        end\n",
    "\n",
    "        a[FltIglobBC] = 0\n",
    "\n",
    "        # Absorbing boundaries\n",
    "        a[iBcL] = a[iBcL] - BcLC.*v[iBcL]\n",
    "        a[iBcT] = a[iBcT] - BcTC.*v[iBcT];"
   ]
  },
  {
   "cell_type": "code",
   "execution_count": 16,
   "metadata": {},
   "outputs": [
    {
     "data": {
      "text/plain": [
       "5×5 Array{Float64,2}:\n",
       "  -1658.55   0.506174    0.825284   0.65079     1649.54\n",
       "  -9030.97   0.64999     1.9178    -0.0169523   8982.47\n",
       " -11809.7    0.0164112  -2.93152    0.223126   11747.8 \n",
       "  -9064.97   0.115879   -4.4771     4.04802     9016.07\n",
       "  -1668.09  16.2739     64.4785    77.3453      1676.8 "
      ]
     },
     "execution_count": 16,
     "metadata": {},
     "output_type": "execute_result"
    }
   ],
   "source": [
    "# Switch to local element representation\n",
    "eo = 1\n",
    "            ig = iglob[:,:,eo]\n",
    "            isETA = eo<=Nel_ETA\n",
    "            if isETA\n",
    "                locall = d[ig] + eta.*v[ig]\n",
    "            else\n",
    "                locall = d[ig]\n",
    "            end\n",
    "            # Gradients wrt local variables\n",
    "            d_xi = Ht*locall\n",
    "            d_eta = locall*H\n",
    "        \n",
    "\n",
    "             # Element contribution\n",
    "            wloc = W[:,:,eo]\n",
    "            d_xi = wloc.*d_xi\n",
    "            d_xi = H*d_xi\n",
    "            d_eta = wloc.*d_eta\n",
    "            d_eta = d_eta*Ht\n",
    "            locall = coefint1*d_xi + coefint2*d_eta"
   ]
  },
  {
   "cell_type": "code",
   "execution_count": 51,
   "metadata": {},
   "outputs": [
    {
     "data": {
      "text/plain": [
       "5×5 Array{Float64,2}:\n",
       " 0.0  -1.24275e-11  -9.24689e-12  -1.91712e-11  -2.4661e-11\n",
       " 0.0   1.40798e-10   4.38063e-10   7.78891e-10   9.788e-10 \n",
       " 0.0   4.7867e-10    1.38906e-9    2.38525e-9    2.85959e-9\n",
       " 0.0   8.32648e-10   2.44504e-9    3.95308e-9    4.76858e-9\n",
       " 0.0   1.00735e-9    3.03235e-9    4.69977e-9    5.80963e-9"
      ]
     },
     "execution_count": 51,
     "metadata": {},
     "output_type": "execute_result"
    }
   ],
   "source": [
    "wloc.*(Ht*)"
   ]
  },
  {
   "cell_type": "code",
   "execution_count": 24,
   "metadata": {},
   "outputs": [
    {
     "data": {
      "text/plain": [
       "5×5 Array{Float64,2}:\n",
       " -5.0       6.7565    -2.66667   1.41016   -0.5    \n",
       " -1.24099   0.0        1.74574  -0.763763   0.25901\n",
       "  0.375    -1.33658    0.0       1.33658   -0.375  \n",
       " -0.25901   0.763763  -1.74574   0.0        1.24099\n",
       "  0.5      -1.41016    2.66667  -6.7565     5.0    "
      ]
     },
     "execution_count": 24,
     "metadata": {},
     "output_type": "execute_result"
    }
   ],
   "source": [
    "Ht"
   ]
  },
  {
   "cell_type": "code",
   "execution_count": 25,
   "metadata": {},
   "outputs": [
    {
     "data": {
      "text/plain": [
       "5×5 Array{Float64,2}:\n",
       " 0.0  1.67594e-7  4.8508e-7   8.01992e-7  9.68824e-7\n",
       " 0.0  1.67616e-7  4.85153e-7  8.02122e-7  9.68989e-7\n",
       " 0.0  1.67816e-7  4.85745e-7  8.03154e-7  9.70246e-7\n",
       " 0.0  1.68246e-7  4.86995e-7  8.05236e-7  9.72739e-7\n",
       " 0.0  1.68564e-7  4.8794e-7   8.06733e-7  9.74565e-7"
      ]
     },
     "execution_count": 25,
     "metadata": {},
     "output_type": "execute_result"
    }
   ],
   "source": [
    "d[ig]"
   ]
  },
  {
   "cell_type": "code",
   "execution_count": 7,
   "metadata": {},
   "outputs": [
    {
     "data": {
      "text/plain": [
       "121×1 Array{Float64,2}:\n",
       "     0.0      \n",
       "     0.0      \n",
       "     0.0      \n",
       "     0.0      \n",
       "     0.0      \n",
       "     0.0      \n",
       "     0.0      \n",
       "     0.0      \n",
       "     0.0      \n",
       "     0.0      \n",
       "     0.0      \n",
       "     0.0      \n",
       "     0.0      \n",
       "     ⋮        \n",
       " 10420.3      \n",
       " 13610.9      \n",
       " 10420.9      \n",
       "  3827.98     \n",
       " 10420.1      \n",
       " 13606.6      \n",
       "  9508.34     \n",
       "  2831.41     \n",
       "  6104.69     \n",
       "  7938.17     \n",
       "  2152.78     \n",
       "     2.40683e8"
      ]
     },
     "execution_count": 7,
     "metadata": {},
     "output_type": "execute_result"
    }
   ],
   "source": [
    "###### Fault Boundary Condition: Rate and State #############\n",
    "        FltVfree = 2*v[iFlt] + 2*half_dt*a[iFlt]./M[iFlt]\n",
    "        Vf = 2*vPre[iFlt] + Vpl\n",
    "\n",
    "        for jF = 1:FaultNglob-NFBC\n",
    "\n",
    "            j = jF - 1 + NFBC\n",
    "            psi1[j] = IDS(psi[j], psi1[j], dt, Vo[j], xLf[j], Vf[j])\n",
    "\n",
    "            Vf1[j], tau1[j] = NRsearch(fo[j], Vo[j], cca[j], ccb[j],Seff[j],\n",
    "                                      tauNR[j], tauo[j], psi1[j], FltZ[j], FltVfree[j])\n",
    "        \n",
    "            if Vf[j] > 1e10 || isnan(Vf[j]) == 1 || isnan(tau1[j]) == 1\n",
    "                error(\"NR SEARCH FAILED!\")\n",
    "                return\n",
    "            end\n",
    "             \n",
    "            if IDstate == 1\n",
    "                psi2[j] = psi[j] + 0.5*dt*( (Vo[j]/xLf[j])*exp(-psi[j]) \n",
    "                                            - abs(Vf[j])/xLf[j] \n",
    "                                            + (Vo[j]/xLf[j])*exp(-psi1[j]) \n",
    "                                            - abs(Vf1[j])/xLf[j] )\n",
    "\n",
    "            elseif IDstate == 2\n",
    "                VdtL = 0.5*abs(Vf1[j] + Vf[j])*dt/xLf[j]\n",
    "                if VdtL < 1e-6\n",
    "                    psi2[j] = log( exp(psi[j]-VdtL) + Vo[j]*dt/xLf[j] -\n",
    "                                  0.5*Vo[j]*0.5*abs(Vf1[j] + Vf[j])*dt*dt/(xLf[j]^2))\n",
    "                else\n",
    "                    psi2[j] = log(exp(psi[j]-VdtL) + \n",
    "                                  (Vo[j]/(0.5*abs(Vf[j] + Vf1[j])))*(1-exp(-VdtL)))\n",
    "                end\n",
    "\n",
    "            elseif IDstate == 3\n",
    "                psi2[j] = exp(-0.5*abs(Vf[j] + Vf1[j])*dt/xLf[j]) * \n",
    "                                log(0.5*abs(Vf[j] + Vf1[j])/Vo[j]) + \n",
    "                                exp(-0.5*abs(Vf[j] + Vf1[j])*dt/xLf[j])*psi[j] \n",
    "                                + log(Vo[j]/(-0.5*abs(Vf[j] + Vf1[j])) )\n",
    "\n",
    "                if ~any(imag(psi1)) == 0\n",
    "                    return\n",
    "                end\n",
    "            end\n",
    "\n",
    "            # NRsearch 2nd loop\n",
    "            Vf2[j], tau2[j] = NRsearch(fo[j], Vo[j], cca[j], ccb[j],Seff[j],\n",
    "                                      tau1[j], tauo[j], psi2[j], FltZ[j], FltVfree[j])\n",
    "\n",
    "        end\n",
    "        \n",
    "        tau = tau2 - tauo\n",
    "        tau[iFBC] = 0\n",
    "        psi = psi2[:]\n",
    "        KD = a[:]\n",
    "        a[iFlt] = a[iFlt] - FltB.*tau;\n",
    "        ########## End of fault boundary condition ############## "
   ]
  },
  {
   "cell_type": "code",
   "execution_count": 47,
   "metadata": {},
   "outputs": [
    {
     "data": {
      "text/plain": [
       "5×5 Array{Float64,2}:\n",
       " -5.0       6.7565    -2.66667   1.41016   -0.5    \n",
       " -1.24099   0.0        1.74574  -0.763763   0.25901\n",
       "  0.375    -1.33658    0.0       1.33658   -0.375  \n",
       " -0.25901   0.763763  -1.74574   0.0        1.24099\n",
       "  0.5      -1.41016    2.66667  -6.7565     5.0    "
      ]
     },
     "execution_count": 47,
     "metadata": {},
     "output_type": "execute_result"
    }
   ],
   "source": [
    "aq1 = d[ig]\n",
    "aq2 = Ht"
   ]
  },
  {
   "cell_type": "code",
   "execution_count": 49,
   "metadata": {},
   "outputs": [
    {
     "data": {
      "text/plain": [
       "5×5 Array{Float64,2}:\n",
       " 0.0  -1.24275e-11  -9.24689e-12  -1.91712e-11  -2.4661e-11\n",
       " 0.0   1.40798e-10   4.38063e-10   7.78891e-10   9.788e-10 \n",
       " 0.0   4.7867e-10    1.38906e-9    2.38525e-9    2.85959e-9\n",
       " 0.0   8.32648e-10   2.44504e-9    3.95308e-9    4.76858e-9\n",
       " 0.0   1.00735e-9    3.03235e-9    4.69977e-9    5.80963e-9"
      ]
     },
     "execution_count": 49,
     "metadata": {},
     "output_type": "execute_result"
    }
   ],
   "source": [
    "aq2*aq1"
   ]
  },
  {
   "cell_type": "code",
   "execution_count": 50,
   "metadata": {},
   "outputs": [
    {
     "data": {
      "text/plain": [
       "5×5 Array{Float64,2}:\n",
       " 0.0  -1.24275e-11  -9.24689e-12  -1.91712e-11  -2.4661e-11\n",
       " 0.0   1.40798e-10   4.38063e-10   7.78891e-10   9.788e-10 \n",
       " 0.0   4.7867e-10    1.38906e-9    2.38525e-9    2.85959e-9\n",
       " 0.0   8.32648e-10   2.44504e-9    3.95308e-9    4.76858e-9\n",
       " 0.0   1.00735e-9    3.03235e-9    4.69977e-9    5.80963e-9"
      ]
     },
     "execution_count": 50,
     "metadata": {},
     "output_type": "execute_result"
    }
   ],
   "source": [
    "Ht*d[ig]"
   ]
  },
  {
   "cell_type": "code",
   "execution_count": null,
   "metadata": {},
   "outputs": [],
   "source": []
  }
 ],
 "metadata": {
  "kernelspec": {
   "display_name": "Julia 0.6.0",
   "language": "julia",
   "name": "julia-0.6"
  },
  "language_info": {
   "file_extension": ".jl",
   "mimetype": "application/julia",
   "name": "julia",
   "version": "0.6.0"
  }
 },
 "nbformat": 4,
 "nbformat_minor": 2
}
