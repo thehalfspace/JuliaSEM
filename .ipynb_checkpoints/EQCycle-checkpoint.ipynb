{
 "cells": [
  {
   "cell_type": "markdown",
   "metadata": {},
   "source": [
    "<h1> Earthquake Cycle Simulations"
   ]
  },
  {
   "cell_type": "code",
   "execution_count": null,
   "metadata": {},
   "outputs": [],
   "source": [
    "# Plot friction parameters\n",
    "using Gadfly\n",
    "\n",
    "fricPlot = plot(layer(x = (cca-ccb).*1e3 + 10, y = FltX/1e3,Theme(default_color=colorant\"red\"), Geom.point),\n",
    "                layer(x = Seff/1e6, y = FltX/1e3, Theme(default_color=colorant\"deepskyblue\"), Geom.point),\n",
    "                layer(x = tauo/1e6, y = FltX/1e3, Theme(default_color=colorant\"green\"), Geom.point),\n",
    "                Guide.xlabel(\"Scaled (a-b)/ Stress value\"),\n",
    "                Guide.ylabel(\"Depth (m)\"),\n",
    "                Guide.title(\"Rate and state friction/Stress\"),\n",
    "                Coord.Cartesian(ymin=-24))"
   ]
  },
  {
   "cell_type": "code",
   "execution_count": null,
   "metadata": {},
   "outputs": [],
   "source": [
    "@time include(\"src/setup.jl\")\n",
    "@time include(\"src/timesolver.jl\")"
   ]
  },
  {
   "cell_type": "code",
   "execution_count": 4,
   "metadata": {},
   "outputs": [
    {
     "name": "stdout",
     "output_type": "stream",
     "text": [
      "Total number of nodes on fault = 121\n",
      "Average node spacing = 400.0\n",
      "dt = 0.04486312014474891"
     ]
    },
    {
     "name": "stderr",
     "output_type": "stream",
     "text": [
      "WARNING: redefining constant Vo\n",
      "WARNING: redefining constant xLf\n"
     ]
    },
    {
     "name": "stdout",
     "output_type": "stream",
     "text": [
      "\n",
      "Setup Complete\n"
     ]
    },
    {
     "name": "stderr",
     "output_type": "stream",
     "text": [
      "WARNING: redefining constant iFBC\n",
      "WARNING: redefining constant FltIglobBC\n"
     ]
    }
   ],
   "source": [
    "include(\"src/setup.jl\")"
   ]
  },
  {
   "cell_type": "code",
   "execution_count": 67,
   "metadata": {},
   "outputs": [
    {
     "data": {
      "text/plain": [
       "tauDepth (generic function with 1 method)"
      ]
     },
     "execution_count": 67,
     "metadata": {},
     "output_type": "execute_result"
    }
   ],
   "source": [
    "include(\"src/PCG.jl\")\n",
    "include(\"src/dtevol.jl\")\n",
    "include(\"src/NRsearch.jl\")\n",
    "include(\"src/otherFunctions.jl\")"
   ]
  },
  {
   "cell_type": "code",
   "execution_count": 62,
   "metadata": {},
   "outputs": [],
   "source": [
    "vPre = v[:]\n",
    "        dPre = d[:]\n",
    "\n",
    "        Vf0 = 2*v[iFlt] + Vpl\n",
    "        Vf = Vf0[:];"
   ]
  },
  {
   "cell_type": "code",
   "execution_count": 88,
   "metadata": {},
   "outputs": [],
   "source": [
    "F[:] = 0\n",
    "            F[iFlt] = dPre[iFlt] + v[iFlt]*dt\n",
    "\n",
    "            # Assign previous displacement field as initial guess\n",
    "            dnew = d[FltNI]\n",
    "\n",
    "            # Solve d = K^-1F by PCG\n",
    "            dnew = PCG(coefint1, coefint2, diagKnew, dnew, F, iFlt, FltNI,\n",
    "                          H, Ht, iglob, Nel, nglob, W);"
   ]
  },
  {
   "cell_type": "code",
   "execution_count": 89,
   "metadata": {},
   "outputs": [],
   "source": [
    "#update displacement on the medium\n",
    "            d[FltNI] = dnew\n",
    "\n",
    "            # make d = F on the fault\n",
    "            d[iFlt] = F[iFlt];"
   ]
  },
  {
   "cell_type": "code",
   "execution_count": 99,
   "metadata": {},
   "outputs": [],
   "source": [
    "# Compute on-fault stress\n",
    "            a[:] = 0\n",
    "            for eo = 1:Nel\n",
    "                ig = iglob[:,:,eo]\n",
    "                locall = d[ig]\n",
    "\n",
    "                # Gradients wrt local variables\n",
    "                d_xi = Ht*locall\n",
    "                d_eta = locall*H\n",
    "\n",
    "                # Element contribution\n",
    "                wloc = W[:,:,eo]\n",
    "                d_xi = wloc.*d_xi\n",
    "                d_xi = H*d_xi\n",
    "                d_eta = wloc.*d_eta\n",
    "                d_eta = d_eta*Ht\n",
    "                locall = coefint1*d_xi + coefint2*d_eta\n",
    "\n",
    "                # Assemble into global vector\n",
    "                a[ig] = a[ig] + locall\n",
    "            end"
   ]
  },
  {
   "cell_type": "code",
   "execution_count": 100,
   "metadata": {},
   "outputs": [
    {
     "data": {
      "text/plain": [
       "9801×1 Array{Float64,2}:\n",
       "  -829.274     \n",
       " -4515.49      \n",
       " -5904.85      \n",
       " -4532.48      \n",
       " -1668.09      \n",
       "     0.253087  \n",
       "     0.324995  \n",
       "     0.00820562\n",
       "     0.0579394 \n",
       "    -0.742093  \n",
       "     0.412642  \n",
       "     0.958902  \n",
       "    -1.46576   \n",
       "     ⋮         \n",
       "     1.68672   \n",
       "    -3.13711   \n",
       "    -0.714965  \n",
       "    -1.36729   \n",
       "    -6.54371   \n",
       "    -1.92761   \n",
       "    -7.17504   \n",
       "    -0.341771  \n",
       "    -0.7711    \n",
       "    -3.12137   \n",
       "    -0.6013    \n",
       "    -0.976003  "
      ]
     },
     "execution_count": 100,
     "metadata": {},
     "output_type": "execute_result"
    }
   ],
   "source": [
    "a"
   ]
  },
  {
   "cell_type": "code",
   "execution_count": 91,
   "metadata": {},
   "outputs": [],
   "source": [
    "a[FltIglobBC] = 0\n",
    "            tau1 = -a[iFlt]./FltB;"
   ]
  },
  {
   "cell_type": "code",
   "execution_count": 92,
   "metadata": {},
   "outputs": [],
   "source": [
    "# Compute slip-rates on-fault\n",
    "            for jF = 1:FaultNglob-NFBC \n",
    "\n",
    "                j = jF - 1 + NFBC\n",
    "                psi1[j] = IDS(psi[j], dt, Vo[j], xLf[j], Vf[j], 1e-6)\n",
    "\n",
    "                tauAB[j] = tau1[j] + tauo[j]\n",
    "                fa = tauAB[j]/(Seff[j]*cca[j])\n",
    "                help = -(fo[j] + ccb[j]*psi1[j])/cca[j]\n",
    "                help1 = exp(help + fa)\n",
    "                help2 = exp(help - fa)\n",
    "                Vf1[j] = Vo[j]*(help1 - help2) \n",
    "            end"
   ]
  },
  {
   "cell_type": "code",
   "execution_count": 93,
   "metadata": {},
   "outputs": [],
   "source": [
    "            Vf1[iFBC] = Vpl\n",
    "            Vf = (Vf0 + Vf1)/2\n",
    "            v[iFlt] = 0.5*(Vf - Vpl);"
   ]
  },
  {
   "cell_type": "code",
   "execution_count": 101,
   "metadata": {},
   "outputs": [
    {
     "data": {
      "text/plain": [
       "9801×1 Array{Float64,2}:\n",
       "  -829.274     \n",
       " -4515.49      \n",
       " -5904.85      \n",
       " -4532.48      \n",
       " -1668.09      \n",
       "     0.253087  \n",
       "     0.324995  \n",
       "     0.00820562\n",
       "     0.0579394 \n",
       "    -0.742093  \n",
       "     0.412642  \n",
       "     0.958902  \n",
       "    -1.46576   \n",
       "     ⋮         \n",
       "     1.68672   \n",
       "    -3.13711   \n",
       "    -0.714965  \n",
       "    -1.36729   \n",
       "    -6.54371   \n",
       "    -1.92761   \n",
       "    -7.17504   \n",
       "    -0.341771  \n",
       "    -0.7711    \n",
       "    -3.12137   \n",
       "    -0.6013    \n",
       "    -0.976003  "
      ]
     },
     "execution_count": 101,
     "metadata": {},
     "output_type": "execute_result"
    }
   ],
   "source": [
    "a"
   ]
  },
  {
   "cell_type": "code",
   "execution_count": 104,
   "metadata": {},
   "outputs": [
    {
     "data": {
      "text/plain": [
       "121×1 Array{Float64,2}:\n",
       "   -0.0   \n",
       "   -0.0   \n",
       "   -0.0   \n",
       "   -0.0   \n",
       "   -0.0   \n",
       "   -0.0   \n",
       "   -0.0   \n",
       "   -0.0   \n",
       "   -0.0   \n",
       "   -0.0   \n",
       "   -0.0   \n",
       "   -0.0   \n",
       "   -0.0   \n",
       "    ⋮     \n",
       "  -24.0697\n",
       "  -23.838 \n",
       "  -23.8175\n",
       "  -23.926 \n",
       "  -24.1362\n",
       "  -25.1157\n",
       "  -27.0913\n",
       "  -17.2301\n",
       "  -44.6121\n",
       "  -16.3972\n",
       " -477.194 \n",
       " 2694.73  "
      ]
     },
     "execution_count": 104,
     "metadata": {},
     "output_type": "execute_result"
    }
   ],
   "source": [
    "tau1"
   ]
  },
  {
   "cell_type": "code",
   "execution_count": null,
   "metadata": {},
   "outputs": [],
   "source": [
    "        psi = psi1[:]\n",
    "        tau = tau1[:]\n",
    "        tau[iFBC] = 0\n",
    "        Vf1[iFBC] = Vpl\n",
    "\n",
    "        v[iFlt] = 0.5*(Vf1 - Vpl)\n",
    "        v[FltNI] = (d[FltNI] - dPre[FltNI])/dt\n",
    "\n",
    "        RHS = a[:]\n",
    "        RHS[iFlt] = RHS[iFlt] - FltB.*tau\n",
    "        RMS = sqrt(sum(RHS.^2)/length(RHS))./maximum(abs.(RHS))\n",
    "        \n",
    "        # Line 731: P_MA: Omitted\n",
    "        a[:] = 0\n",
    "        d[FltIglobBC] = 0\n",
    "        v[FltIglobBC] = 0\n",
    "\n"
   ]
  },
  {
   "cell_type": "code",
   "execution_count": null,
   "metadata": {},
   "outputs": [],
   "source": []
  }
 ],
 "metadata": {
  "kernelspec": {
   "display_name": "Julia 0.6.0",
   "language": "julia",
   "name": "julia-0.6"
  },
  "language_info": {
   "file_extension": ".jl",
   "mimetype": "application/julia",
   "name": "julia",
   "version": "0.6.0"
  }
 },
 "nbformat": 4,
 "nbformat_minor": 2
}
