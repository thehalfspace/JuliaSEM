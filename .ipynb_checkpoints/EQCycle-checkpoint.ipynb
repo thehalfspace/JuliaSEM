{
 "cells": [
  {
   "cell_type": "markdown",
   "metadata": {},
   "source": [
    "<h1><center> Earthquake Cycle Simulations"
   ]
  },
  {
   "cell_type": "code",
   "execution_count": 1,
   "metadata": {},
   "outputs": [
    {
     "name": "stdout",
     "output_type": "stream",
     "text": [
      "Total number of nodes on fault = 121\n",
      "Average node spacing = 400.0\n",
      "dt = 0.04486312014474891\n",
      "Setup Complete\n",
      " 11.179692 seconds (13.36 M allocations: 977.783 MiB, 1.78% gc time)\n"
     ]
    }
   ],
   "source": [
    "@time include(\"src/setup.jl\")"
   ]
  },
  {
   "cell_type": "code",
   "execution_count": 2,
   "metadata": {},
   "outputs": [
    {
     "name": "stdout",
     "output_type": "stream",
     "text": [
      "\n",
      "Time (yr) = 0.0048341\n",
      "Time (yr) = 48.776\n",
      "Time (yr) = 96.566\n",
      "Simulation Complete\n",
      "391.961986 seconds (3.98 G allocations: 895.951 GiB, 9.44% gc time)\n"
     ]
    }
   ],
   "source": [
    "@time include(\"src/timesolver.jl\")"
   ]
  },
  {
   "cell_type": "markdown",
   "metadata": {},
   "source": [
    "<h3> Save the variables to data folder"
   ]
  },
  {
   "cell_type": "code",
   "execution_count": 4,
   "metadata": {},
   "outputs": [],
   "source": [
    "using JLD\n",
    "\n",
    "@save \"data/testing/test03.jld\""
   ]
  },
  {
   "cell_type": "code",
   "execution_count": null,
   "metadata": {},
   "outputs": [],
   "source": []
  }
 ],
 "metadata": {
  "kernelspec": {
   "display_name": "Julia 0.6.0",
   "language": "julia",
   "name": "julia-0.6"
  },
  "language_info": {
   "file_extension": ".jl",
   "mimetype": "application/julia",
   "name": "julia",
   "version": "0.6.0"
  }
 },
 "nbformat": 4,
 "nbformat_minor": 2
}
