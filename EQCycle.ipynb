{
 "cells": [
  {
   "cell_type": "code",
   "execution_count": 7,
   "metadata": {},
   "outputs": [
    {
     "name": "stdout",
     "output_type": "stream",
     "text": [
      "Total number of nodes on fault = 121\n",
      "Average node spacing = 0.0004\n",
      "dt = 0.00007477186690791\n",
      "Setup Complete\n",
      "  0.902617 seconds (494.30 k allocations: 28.702 MiB, 0.79% gc time)\n"
     ]
    },
    {
     "name": "stderr",
     "output_type": "stream",
     "text": [
      "WARNING: redefining constant Vo\n",
      "WARNING: redefining constant xLf\n"
     ]
    }
   ],
   "source": [
    "@time include(\"setup.jl\")"
   ]
  },
  {
   "cell_type": "code",
   "execution_count": null,
   "metadata": {},
   "outputs": [],
   "source": [
    "# Plot friction parameters\n",
    "using Gadfly\n",
    "\n",
    "fricPlot = plot(layer(x = (cca-ccb).*1e3 + 10, y = FltX,Theme(default_color=colorant\"red\"), Geom.point),\n",
    "                layer(x = Seff/1e6, y = FltX, Theme(default_color=colorant\"deepskyblue\"), Geom.point),\n",
    "                layer(x = tauo/1e6, y = FltX, Theme(default_color=colorant\"green\"), Geom.point),\n",
    "                Guide.xlabel(\"Scaled (a-b)/ Stress value\"),\n",
    "                Guide.ylabel(\"Depth (m)\"),\n",
    "                Guide.title(\"Rate and state friction/Stress\"),\n",
    "                Coord.Cartesian(ymin=-24))"
   ]
  },
  {
   "cell_type": "code",
   "execution_count": 13,
   "metadata": {},
   "outputs": [
    {
     "name": "stdout",
     "output_type": "stream",
     "text": [
      "  1.105180 seconds (2.19 M allocations: 106.681 MiB, 1.35% gc time)\n"
     ]
    }
   ],
   "source": [
    "@time include(\"timesolver.jl\")"
   ]
  },
  {
   "cell_type": "code",
   "execution_count": 16,
   "metadata": {},
   "outputs": [
    {
     "data": {
      "text/plain": [
       "121×1 Array{Float64,2}:\n",
       "     0.0  \n",
       "     0.0  \n",
       "     0.0  \n",
       "     0.0  \n",
       "     0.0  \n",
       "     0.0  \n",
       "     0.0  \n",
       "     0.0  \n",
       "     0.0  \n",
       "     0.0  \n",
       "     0.0  \n",
       "     0.0  \n",
       "     0.0  \n",
       "     ⋮    \n",
       "  -439.889\n",
       "  -439.585\n",
       "  -448.175\n",
       "  -459.314\n",
       "  -473.52 \n",
       "  -574.098\n",
       "  -679.787\n",
       "  -144.314\n",
       "  -539.387\n",
       "  -109.667\n",
       " -9921.3  \n",
       " 57244.0  "
      ]
     },
     "execution_count": 16,
     "metadata": {},
     "output_type": "execute_result"
    }
   ],
   "source": [
    "tau"
   ]
  },
  {
   "cell_type": "code",
   "execution_count": null,
   "metadata": {},
   "outputs": [],
   "source": [
    "ddd = Inf \n",
    "\n",
    "if ddd == Inf\n",
    "    error(\"Hello World!\")\n",
    "end"
   ]
  },
  {
   "cell_type": "code",
   "execution_count": null,
   "metadata": {},
   "outputs": [],
   "source": [
    "j = 1\n",
    "IDstate = 3"
   ]
  },
  {
   "cell_type": "code",
   "execution_count": null,
   "metadata": {},
   "outputs": [],
   "source": [
    "            if IDstate == 1\n",
    "                psi2[j] = psi[j] + 0.5*dt*( (Vo[j]./xLf[j]).*exp(-psi[j]) \n",
    "                                            - abs(Vf[j])./xLf[j] \n",
    "                                            + (Vo[j]./xLf[j]).*exp(-psi1[j]) \n",
    "                                            - abs(Vf1[j])./xLf[j] )\n",
    "\n",
    "            elseif IDstate == 2\n",
    "                VdtL = 0.5*abs(Vf1[j] + Vf[j])*dt/xLf[j]\n",
    "                if VdtL < 1e-6\n",
    "                    psi2[j] = log( exp(psi[j]-VdtL) + Vo[j]*dt/xLf[j] -\n",
    "                                  0.5*Vo[j]*0.5*abs(Vf1[j] + Vf[j])*dt*dt/(xLf[j]^2))\n",
    "                else\n",
    "                    psi2[j] = log(exp(psi[j]-VdtL) + (Vo[j]/abs(Vf[j]))*(1-exp(-VdtL)))\n",
    "                end\n",
    "\n",
    "            elseif IDstate == 3\n",
    "                psi1[j] = VdtL\n",
    "\n",
    "                if ~any(imag(psi1)) == 0\n",
    "                    return\n",
    "                end\n",
    "            end\n"
   ]
  },
  {
   "cell_type": "code",
   "execution_count": null,
   "metadata": {},
   "outputs": [],
   "source": [
    "VdtL"
   ]
  },
  {
   "cell_type": "code",
   "execution_count": null,
   "metadata": {},
   "outputs": [],
   "source": []
  }
 ],
 "metadata": {
  "kernelspec": {
   "display_name": "Julia 0.6.0",
   "language": "julia",
   "name": "julia-0.6"
  },
  "language_info": {
   "file_extension": ".jl",
   "mimetype": "application/julia",
   "name": "julia",
   "version": "0.6.0"
  }
 },
 "nbformat": 4,
 "nbformat_minor": 2
}
