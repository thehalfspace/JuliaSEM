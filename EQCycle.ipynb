{
 "cells": [
  {
   "cell_type": "code",
   "execution_count": 1,
   "metadata": {},
   "outputs": [
    {
     "name": "stdout",
     "output_type": "stream",
     "text": [
      "Total number of nodes on fault = 121\n",
      "Average node spacing = 0.0004\n",
      "dt = 0.00007477186690791\n",
      "Setup Complete\n",
      "  5.551153 seconds (2.70 M allocations: 141.502 MiB, 0.56% gc time)\n"
     ]
    }
   ],
   "source": [
    "@time include(\"setup.jl\")"
   ]
  },
  {
   "cell_type": "code",
   "execution_count": null,
   "metadata": {},
   "outputs": [],
   "source": [
    "# Plot friction parameters\n",
    "using Gadfly\n",
    "\n",
    "fricPlot = plot(layer(x = (cca-ccb).*1e3 + 10, y = FltX,Theme(default_color=colorant\"red\"), Geom.point),\n",
    "                layer(x = Seff/1e6, y = FltX, Theme(default_color=colorant\"deepskyblue\"), Geom.point),\n",
    "                layer(x = tauo/1e6, y = FltX, Theme(default_color=colorant\"green\"), Geom.point),\n",
    "                Guide.xlabel(\"Scaled (a-b)/ Stress value\"),\n",
    "                Guide.ylabel(\"Depth (m)\"),\n",
    "                Guide.title(\"Rate and state friction/Stress\"),\n",
    "                Coord.Cartesian(ymin=-24))"
   ]
  },
  {
   "cell_type": "code",
   "execution_count": 2,
   "metadata": {},
   "outputs": [
    {
     "name": "stdout",
     "output_type": "stream",
     "text": [
      " 52.275473 seconds (521.27 M allocations: 119.331 GiB, 7.19% gc time)\n"
     ]
    }
   ],
   "source": [
    "@time include(\"timesolver.jl\")"
   ]
  },
  {
   "cell_type": "code",
   "execution_count": null,
   "metadata": {},
   "outputs": [],
   "source": [
    "iglob[:,:,1]"
   ]
  },
  {
   "cell_type": "code",
   "execution_count": null,
   "metadata": {},
   "outputs": [],
   "source": [
    "ddd = Inf \n",
    "\n",
    "if ddd == Inf\n",
    "    error(\"Hello World!\")\n",
    "end"
   ]
  },
  {
   "cell_type": "code",
   "execution_count": null,
   "metadata": {},
   "outputs": [],
   "source": [
    "j = 1\n",
    "IDstate = 3"
   ]
  },
  {
   "cell_type": "code",
   "execution_count": null,
   "metadata": {},
   "outputs": [],
   "source": [
    "            if IDstate == 1\n",
    "                psi2[j] = psi[j] + 0.5*dt*( (Vo[j]./xLf[j]).*exp(-psi[j]) \n",
    "                                            - abs(Vf[j])./xLf[j] \n",
    "                                            + (Vo[j]./xLf[j]).*exp(-psi1[j]) \n",
    "                                            - abs(Vf1[j])./xLf[j] )\n",
    "\n",
    "            elseif IDstate == 2\n",
    "                VdtL = 0.5*abs(Vf1[j] + Vf[j])*dt/xLf[j]\n",
    "                if VdtL < 1e-6\n",
    "                    psi2[j] = log( exp(psi[j]-VdtL) + Vo[j]*dt/xLf[j] -\n",
    "                                  0.5*Vo[j]*0.5*abs(Vf1[j] + Vf[j])*dt*dt/(xLf[j]^2))\n",
    "                else\n",
    "                    psi2[j] = log(exp(psi[j]-VdtL) + (Vo[j]/abs(Vf[j]))*(1-exp(-VdtL)))\n",
    "                end\n",
    "\n",
    "            elseif IDstate == 3\n",
    "                psi1[j] = VdtL\n",
    "\n",
    "                if ~any(imag(psi1)) == 0\n",
    "                    return\n",
    "                end\n",
    "            end\n"
   ]
  },
  {
   "cell_type": "code",
   "execution_count": null,
   "metadata": {},
   "outputs": [],
   "source": [
    "VdtL"
   ]
  },
  {
   "cell_type": "code",
   "execution_count": null,
   "metadata": {},
   "outputs": [],
   "source": []
  }
 ],
 "metadata": {
  "kernelspec": {
   "display_name": "Julia 0.6.0",
   "language": "julia",
   "name": "julia-0.6"
  },
  "language_info": {
   "file_extension": ".jl",
   "mimetype": "application/julia",
   "name": "julia",
   "version": "0.6.0"
  }
 },
 "nbformat": 4,
 "nbformat_minor": 2
}
