{
 "cells": [
  {
   "cell_type": "markdown",
   "metadata": {},
   "source": [
    "<h1> Earthquake Cycle Simulations"
   ]
  },
  {
   "cell_type": "code",
   "execution_count": null,
   "metadata": {},
   "outputs": [],
   "source": [
    "# Plot friction parameters\n",
    "using Gadfly\n",
    "\n",
    "fricPlot = plot(layer(x = (cca-ccb).*1e3 + 10, y = FltX/1e3,Theme(default_color=colorant\"red\"), Geom.point),\n",
    "                layer(x = Seff/1e6, y = FltX/1e3, Theme(default_color=colorant\"deepskyblue\"), Geom.point),\n",
    "                layer(x = tauo/1e6, y = FltX/1e3, Theme(default_color=colorant\"green\"), Geom.point),\n",
    "                Guide.xlabel(\"Scaled (a-b)/ Stress value\"),\n",
    "                Guide.ylabel(\"Depth (m)\"),\n",
    "                Guide.title(\"Rate and state friction/Stress\"),\n",
    "                Coord.Cartesian(ymin=-24))"
   ]
  },
  {
   "cell_type": "code",
   "execution_count": 34,
   "metadata": {},
   "outputs": [
    {
     "name": "stdout",
     "output_type": "stream",
     "text": [
      "Total number of nodes on fault = 121\n",
      "Average node spacing = 400.0\n",
      "dt = 0.04486312014474891"
     ]
    },
    {
     "name": "stderr",
     "output_type": "stream",
     "text": [
      "WARNING: redefining constant Vo\n",
      "WARNING: redefining constant xLf\n"
     ]
    },
    {
     "name": "stdout",
     "output_type": "stream",
     "text": [
      "\n",
      "Setup Complete\n",
      "  2.773581 seconds (2.98 M allocations: 465.026 MiB, 4.50% gc time)\n"
     ]
    },
    {
     "name": "stderr",
     "output_type": "stream",
     "text": [
      "WARNING: redefining constant iFBC\n",
      "WARNING: redefining constant FltIglobBC\n"
     ]
    },
    {
     "ename": "LoadError",
     "evalue": "LoadError: \u001b[91mDimensionMismatch(\"cannot broadcast array to have fewer dimensions\")\u001b[39m\nwhile loading /Volumes/GoogleDrive/My Drive/Work/Code/JuliaSEMCycle/src/timesolver.jl, in expression starting on line 19",
     "output_type": "error",
     "traceback": [
      "LoadError: \u001b[91mDimensionMismatch(\"cannot broadcast array to have fewer dimensions\")\u001b[39m\nwhile loading /Volumes/GoogleDrive/My Drive/Work/Code/JuliaSEMCycle/src/timesolver.jl, in expression starting on line 19",
      "",
      "Stacktrace:",
      " [1] \u001b[1mcheck_broadcast_shape\u001b[22m\u001b[22m\u001b[1m(\u001b[22m\u001b[22m::Tuple{Base.OneTo{Int64}}, ::Tuple{Base.OneTo{Int64},Base.OneTo{Int64}}\u001b[1m)\u001b[22m\u001b[22m at \u001b[1m./broadcast.jl:84\u001b[22m\u001b[22m",
      " [2] \u001b[1mbroadcast_c!\u001b[22m\u001b[22m at \u001b[1m./broadcast.jl:208\u001b[22m\u001b[22m [inlined]",
      " [3] \u001b[1mbroadcast!\u001b[22m\u001b[22m\u001b[1m(\u001b[22m\u001b[22m::Function, ::SubArray{Float64,1,Array{Float64,1},Tuple{Array{Int64,1}},false}, ::Array{Float64,2}\u001b[1m)\u001b[22m\u001b[22m at \u001b[1m./broadcast.jl:204\u001b[22m\u001b[22m",
      " [4] \u001b[1mmacro expansion\u001b[22m\u001b[22m at \u001b[1m/Volumes/GoogleDrive/My Drive/Work/Code/JuliaSEMCycle/src/timesolver.jl:48\u001b[22m\u001b[22m [inlined]",
      " [5] \u001b[1manonymous\u001b[22m\u001b[22m at \u001b[1m./<missing>:?\u001b[22m\u001b[22m",
      " [6] \u001b[1minclude_from_node1\u001b[22m\u001b[22m\u001b[1m(\u001b[22m\u001b[22m::String\u001b[1m)\u001b[22m\u001b[22m at \u001b[1m./loading.jl:569\u001b[22m\u001b[22m",
      " [7] \u001b[1minclude\u001b[22m\u001b[22m\u001b[1m(\u001b[22m\u001b[22m::String\u001b[1m)\u001b[22m\u001b[22m at \u001b[1m./sysimg.jl:14\u001b[22m\u001b[22m"
     ]
    }
   ],
   "source": [
    "@time include(\"src/setup.jl\")\n",
    "@time include(\"src/timesolver.jl\")"
   ]
  },
  {
   "cell_type": "code",
   "execution_count": 40,
   "metadata": {},
   "outputs": [
    {
     "data": {
      "text/plain": [
       "121×1 Array{Int32,2}:\n",
       "   1\n",
       "   2\n",
       "   3\n",
       "   4\n",
       "   5\n",
       "  26\n",
       "  27\n",
       "  28\n",
       "  29\n",
       "  46\n",
       "  47\n",
       "  48\n",
       "  49\n",
       "   ⋮\n",
       " 546\n",
       " 547\n",
       " 548\n",
       " 549\n",
       " 566\n",
       " 567\n",
       " 568\n",
       " 569\n",
       " 586\n",
       " 587\n",
       " 588\n",
       " 589"
      ]
     },
     "execution_count": 40,
     "metadata": {},
     "output_type": "execute_result"
    }
   ],
   "source": [
    "iFlt"
   ]
  },
  {
   "cell_type": "code",
   "execution_count": 33,
   "metadata": {},
   "outputs": [
    {
     "data": {
      "text/plain": [
       "121×1 Array{Float64,2}:\n",
       " 1.10984e-9\n",
       " 1.10984e-9\n",
       " 1.10984e-9\n",
       " 1.10984e-9\n",
       " 1.10984e-9\n",
       " 1.10984e-9\n",
       " 1.10984e-9\n",
       " 1.10984e-9\n",
       " 1.10984e-9\n",
       " 1.10984e-9\n",
       " 1.10984e-9\n",
       " 1.10984e-9\n",
       " 1.10984e-9\n",
       " ⋮         \n",
       " 0.001     \n",
       " 0.001     \n",
       " 0.001     \n",
       " 0.001     \n",
       " 0.001     \n",
       " 0.001     \n",
       " 0.001     \n",
       " 0.001     \n",
       " 0.001     \n",
       " 0.001     \n",
       " 0.001     \n",
       " 0.001     "
      ]
     },
     "execution_count": 33,
     "metadata": {},
     "output_type": "execute_result"
    }
   ],
   "source": [
    "Vf0"
   ]
  },
  {
   "cell_type": "code",
   "execution_count": 29,
   "metadata": {},
   "outputs": [
    {
     "data": {
      "text/plain": [
       "121×1 Array{Float64,2}:\n",
       " 1.10984e-9\n",
       " 1.10984e-9\n",
       " 1.10984e-9\n",
       " 1.10984e-9\n",
       " 1.10984e-9\n",
       " 1.10984e-9\n",
       " 1.10984e-9\n",
       " 1.10984e-9\n",
       " 1.10984e-9\n",
       " 1.10984e-9\n",
       " 1.10984e-9\n",
       " 1.10984e-9\n",
       " 1.10984e-9\n",
       " ⋮         \n",
       " 0.001     \n",
       " 0.001     \n",
       " 0.001     \n",
       " 0.001     \n",
       " 0.001     \n",
       " 0.001     \n",
       " 0.001     \n",
       " 0.001     \n",
       " 0.001     \n",
       " 0.001     \n",
       " 0.001     \n",
       " 0.001     "
      ]
     },
     "execution_count": 29,
     "metadata": {},
     "output_type": "execute_result"
    }
   ],
   "source": [
    "2*v[iFlt] + Vpl\n"
   ]
  },
  {
   "cell_type": "code",
   "execution_count": null,
   "metadata": {},
   "outputs": [],
   "source": [
    "IDstate"
   ]
  },
  {
   "cell_type": "code",
   "execution_count": null,
   "metadata": {},
   "outputs": [],
   "source": [
    "a"
   ]
  },
  {
   "cell_type": "code",
   "execution_count": null,
   "metadata": {},
   "outputs": [],
   "source": []
  },
  {
   "cell_type": "code",
   "execution_count": null,
   "metadata": {},
   "outputs": [],
   "source": []
  },
  {
   "cell_type": "code",
   "execution_count": null,
   "metadata": {},
   "outputs": [],
   "source": []
  },
  {
   "cell_type": "code",
   "execution_count": null,
   "metadata": {},
   "outputs": [],
   "source": []
  },
  {
   "cell_type": "code",
   "execution_count": null,
   "metadata": {},
   "outputs": [],
   "source": [
    "include(\"src/PCG.jl\")\n",
    "include(\"src/dtevol.jl\")\n",
    "include(\"src/NRsearch.jl\")\n",
    "include(\"src/otherFunctions.jl\")\n",
    "\n",
    "vPre = v[:]\n",
    "        dPre = d[:]\n",
    "\n",
    "        Vf0 = 2*v[iFlt] + Vpl\n",
    "        Vf = Vf0[:];"
   ]
  },
  {
   "cell_type": "code",
   "execution_count": null,
   "metadata": {},
   "outputs": [],
   "source": [
    "temp"
   ]
  },
  {
   "cell_type": "code",
   "execution_count": null,
   "metadata": {},
   "outputs": [],
   "source": []
  },
  {
   "cell_type": "markdown",
   "metadata": {},
   "source": [
    "<h3> PCG debug"
   ]
  },
  {
   "cell_type": "code",
   "execution_count": null,
   "metadata": {},
   "outputs": [],
   "source": []
  }
 ],
 "metadata": {
  "kernelspec": {
   "display_name": "Julia 0.6.0",
   "language": "julia",
   "name": "julia-0.6"
  },
  "language_info": {
   "file_extension": ".jl",
   "mimetype": "application/julia",
   "name": "julia",
   "version": "0.6.0"
  }
 },
 "nbformat": 4,
 "nbformat_minor": 2
}
