{
 "cells": [
  {
   "cell_type": "markdown",
   "metadata": {},
   "source": [
    "<h1><center> Earthquake Cycle Simulations"
   ]
  },
  {
   "cell_type": "code",
   "execution_count": 33,
   "metadata": {},
   "outputs": [
    {
     "name": "stdout",
     "output_type": "stream",
     "text": [
      "Total number of nodes on fault = 121\n",
      "Average node spacing = 400.0\n",
      "dt = 0.04486312014474891"
     ]
    },
    {
     "name": "stderr",
     "output_type": "stream",
     "text": [
      "WARNING: redefining constant Vo\n",
      "WARNING: redefining constant xLf\n",
      "WARNING: redefining constant FltZ\n",
      "WARNING: redefining constant FltX\n"
     ]
    },
    {
     "name": "stdout",
     "output_type": "stream",
     "text": [
      "\n",
      "Setup Complete\n",
      "  2.166636 seconds (2.52 M allocations: 537.482 MiB, 12.35% gc time)\n"
     ]
    },
    {
     "name": "stderr",
     "output_type": "stream",
     "text": [
      "WARNING: redefining constant iFBC\n",
      "WARNING: redefining constant FltIglobBC\n"
     ]
    }
   ],
   "source": [
    "@time include(\"src/setup.jl\") "
   ]
  },
  {
   "cell_type": "code",
   "execution_count": 34,
   "metadata": {},
   "outputs": [
    {
     "name": "stdout",
     "output_type": "stream",
     "text": [
      "\n",
      "Time (yr) = 51.309\n",
      "Time (yr) = 107.99\n",
      "Time (yr) = 145.18\n",
      "Time (yr) = 156.86\n",
      "Time (yr) = 192.51\n",
      "Time (yr) = 192.51\n",
      "Time (yr) = 192.51\n",
      "Time (yr) = 192.51\n",
      "Time (yr) = 192.51\n",
      "Time (yr) = 192.52\n",
      "Time (yr) = 198.81\n",
      "Simulation Complete\n",
      "683.451527 seconds (6.53 G allocations: 1.409 TiB, 11.45% gc time)\n"
     ]
    }
   ],
   "source": [
    "#simulation_time = @elapsed include(\"src/timesolver.jl\")\n",
    "\n",
    "@time include(\"src/timesolver.jl\")"
   ]
  },
  {
   "cell_type": "code",
   "execution_count": 29,
   "metadata": {},
   "outputs": [],
   "source": [
    "using PyPlot"
   ]
  },
  {
   "cell_type": "code",
   "execution_count": 32,
   "metadata": {},
   "outputs": [
    {
     "data": {
      "image/png": "[encoded data removed]",
      "text/plain": [
       "PyPlot.Figure(PyObject <Figure size 640x480 with 1 Axes>)"
      ]
     },
     "metadata": {},
     "output_type": "display_data"
    }
   ],
   "source": [
    "# Plot rate and state friction parameters\n",
    "plot(cca, FltX/1e3, \"b-\")\n",
    "plot(ccb, FltX/1e3, \"r-\")\n",
    "plot(cca-ccb, FltX/1e3, \"k-\")\n",
    "plot(repmat([0], FaultNglob), FltX/1e3, \"b--\")\n",
    "ylim([-40, 0])\n",
    "show()"
   ]
  },
  {
   "cell_type": "markdown",
   "metadata": {},
   "source": [
    "<h3> Save the variables to data folder"
   ]
  },
  {
   "cell_type": "code",
   "execution_count": 10,
   "metadata": {
    "collapsed": true
   },
   "outputs": [],
   "source": [
    "# Additional variables to be saved\n",
    "\n",
    "# Description of the simulation\n",
    "desc = \"Elastic halfspace, Fault Zone: 10 km deep, 1km wide\""
   ]
  },
  {
   "cell_type": "code",
   "execution_count": 35,
   "metadata": {
    "collapsed": true
   },
   "outputs": [],
   "source": [
    "using JLD\n",
    "\n",
    "@save \"data/benchmark/test01.jld\""
   ]
  },
  {
   "cell_type": "code",
   "execution_count": null,
   "metadata": {
    "collapsed": true
   },
   "outputs": [],
   "source": []
  }
 ],
 "metadata": {
  "kernelspec": {
   "display_name": "Julia 0.6.0",
   "language": "julia",
   "name": "julia-0.6"
  },
  "language_info": {
   "file_extension": ".jl",
   "mimetype": "application/julia",
   "name": "julia",
   "version": "0.6.0"
  }
 },
 "nbformat": 4,
 "nbformat_minor": 2
}
