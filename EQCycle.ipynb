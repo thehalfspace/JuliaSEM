{
 "cells": [
  {
   "cell_type": "markdown",
   "metadata": {},
   "source": [
    "<h1><center> Earthquake Cycle Simulations"
   ]
  },
  {
   "cell_type": "code",
   "execution_count": 123,
   "metadata": {},
   "outputs": [
    {
     "name": "stdout",
     "output_type": "stream",
     "text": [
      "Total number of nodes on fault = 121\n",
      "Average node spacing = 400.0\n",
      "dt = 0.04486312014474891"
     ]
    },
    {
     "name": "stderr",
     "output_type": "stream",
     "text": [
      "WARNING: redefining constant Vo\n",
      "WARNING: redefining constant xLf\n",
      "WARNING: redefining constant FltZ\n",
      "WARNING: redefining constant FltX\n"
     ]
    },
    {
     "name": "stdout",
     "output_type": "stream",
     "text": [
      "\n",
      "Setup Complete\n",
      "  2.444354 seconds (2.86 M allocations: 458.438 MiB, 4.15% gc time)\n"
     ]
    },
    {
     "name": "stderr",
     "output_type": "stream",
     "text": [
      "WARNING: redefining constant iFBC\n",
      "WARNING: redefining constant FltIglobBC\n"
     ]
    }
   ],
   "source": [
    "@time include(\"src/setup.jl\") "
   ]
  },
  {
   "cell_type": "code",
   "execution_count": 4,
   "metadata": {},
   "outputs": [
    {
     "name": "stdout",
     "output_type": "stream",
     "text": [
      "\n",
      "Time (yr) = 0.0048341\n",
      "Simulation Complete\n",
      "105.480785 seconds (949.00 M allocations: 207.015 GiB, 9.42% gc time)\n"
     ]
    }
   ],
   "source": [
    "#simulation_time = @elapsed include(\"src/timesolver.jl\")\n",
    "\n",
    "@time include(\"src/timesolver.jl\")"
   ]
  },
  {
   "cell_type": "code",
   "execution_count": 101,
   "metadata": {},
   "outputs": [
    {
     "data": {
      "text/plain": [
       "Int1D! (generic function with 2 methods)"
      ]
     },
     "execution_count": 101,
     "metadata": {},
     "output_type": "execute_result"
    }
   ],
   "source": []
  },
  {
   "cell_type": "markdown",
   "metadata": {},
   "source": [
    "<h3> Save the variables to data folder"
   ]
  },
  {
   "cell_type": "code",
   "execution_count": 10,
   "metadata": {},
   "outputs": [],
   "source": [
    "# Additional variables to be saved\n",
    "\n",
    "# Description of the simulation\n",
    "desc = \"Elastic halfspace, Fault Zone: 10 km deep, 1km wide\""
   ]
  },
  {
   "cell_type": "code",
   "execution_count": 105,
   "metadata": {},
   "outputs": [],
   "source": [
    "using JLD\n",
    "\n",
    "@save \"data/testing/test05.jld\""
   ]
  },
  {
   "cell_type": "code",
   "execution_count": null,
   "metadata": {},
   "outputs": [],
   "source": []
  }
 ],
 "metadata": {
  "kernelspec": {
   "display_name": "Julia 0.6.0",
   "language": "julia",
   "name": "julia-0.6"
  },
  "language_info": {
   "file_extension": ".jl",
   "mimetype": "application/julia",
   "name": "julia",
   "version": "0.6.0"
  }
 },
 "nbformat": 4,
 "nbformat_minor": 2
}
