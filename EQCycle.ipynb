{
 "cells": [
  {
   "cell_type": "code",
   "execution_count": 56,
   "metadata": {},
   "outputs": [
    {
     "name": "stdout",
     "output_type": "stream",
     "text": [
      "Total number of nodes on fault = 121\n",
      "Average node spacing = 400.0\n",
      "dt = 0.04486312014474891\n",
      "Setup Complete\n",
      "  0.849824 seconds (481.10 k allocations: 28.290 MiB, 0.53% gc time)\n"
     ]
    },
    {
     "name": "stderr",
     "output_type": "stream",
     "text": [
      "WARNING: redefining constant Vo\n",
      "WARNING: redefining constant xLf\n"
     ]
    }
   ],
   "source": [
    "@time include(\"setup.jl\")"
   ]
  },
  {
   "cell_type": "code",
   "execution_count": null,
   "metadata": {},
   "outputs": [],
   "source": [
    "# Plot friction parameters\n",
    "using Gadfly\n",
    "\n",
    "fricPlot = plot(layer(x = (cca-ccb).*1e3 + 10, y = FltX,Theme(default_color=colorant\"red\"), Geom.point),\n",
    "                layer(x = Seff/1e6, y = FltX, Theme(default_color=colorant\"deepskyblue\"), Geom.point),\n",
    "                layer(x = tauo/1e6, y = FltX, Theme(default_color=colorant\"green\"), Geom.point),\n",
    "                Guide.xlabel(\"Scaled (a-b)/ Stress value\"),\n",
    "                Guide.ylabel(\"Depth (m)\"),\n",
    "                Guide.title(\"Rate and state friction/Stress\"),\n",
    "                Coord.Cartesian(ymin=-24))"
   ]
  },
  {
   "cell_type": "code",
   "execution_count": 57,
   "metadata": {},
   "outputs": [
    {
     "ename": "LoadError",
     "evalue": "LoadError: \u001b[91mNR SEARCH FAILED!\u001b[39m\nwhile loading /Volumes/GoogleDrive/My Drive/Work/Code/JuliaSEMCycle/timesolver.jl, in expression starting on line 75",
     "output_type": "error",
     "traceback": [
      "LoadError: \u001b[91mNR SEARCH FAILED!\u001b[39m\nwhile loading /Volumes/GoogleDrive/My Drive/Work/Code/JuliaSEMCycle/timesolver.jl, in expression starting on line 75",
      "",
      "Stacktrace:",
      " [1] \u001b[1mmacro expansion\u001b[22m\u001b[22m at \u001b[1m/Volumes/GoogleDrive/My Drive/Work/Code/JuliaSEMCycle/timesolver.jl:223\u001b[22m\u001b[22m [inlined]",
      " [2] \u001b[1manonymous\u001b[22m\u001b[22m at \u001b[1m./<missing>:?\u001b[22m\u001b[22m",
      " [3] \u001b[1minclude_from_node1\u001b[22m\u001b[22m\u001b[1m(\u001b[22m\u001b[22m::String\u001b[1m)\u001b[22m\u001b[22m at \u001b[1m./loading.jl:569\u001b[22m\u001b[22m",
      " [4] \u001b[1minclude\u001b[22m\u001b[22m\u001b[1m(\u001b[22m\u001b[22m::String\u001b[1m)\u001b[22m\u001b[22m at \u001b[1m./sysimg.jl:14\u001b[22m\u001b[22m"
     ]
    }
   ],
   "source": [
    "@time include(\"timesolver.jl\")"
   ]
  },
  {
   "cell_type": "code",
   "execution_count": 51,
   "metadata": {},
   "outputs": [
    {
     "data": {
      "text/plain": [
       "3.611797470450001e10"
      ]
     },
     "execution_count": 51,
     "metadata": {},
     "output_type": "execute_result"
    }
   ],
   "source": [
    "wloc = W[:,:,1]; k = 1; j = 1\n",
    "sum( coefint1*H[k,:].*(wloc[:,j].*Ht[:,k]) + coefint2*(wloc[k,:].*H[j,:])'.*Ht[:,j] )"
   ]
  },
  {
   "cell_type": "code",
   "execution_count": 60,
   "metadata": {},
   "outputs": [
    {
     "data": {
      "text/plain": [
       "121×1 Array{Float64,2}:\n",
       "   1.10984e-9 \n",
       "   1.10984e-9 \n",
       "   1.10984e-9 \n",
       "   1.10984e-9 \n",
       "   1.10984e-9 \n",
       "   1.10984e-9 \n",
       "   1.10984e-9 \n",
       "   1.10984e-9 \n",
       "   1.10984e-9 \n",
       "   1.10984e-9 \n",
       "   1.10984e-9 \n",
       "   1.10984e-9 \n",
       "   1.10984e-9 \n",
       "   ⋮          \n",
       "   0.0127053  \n",
       "   0.0127109  \n",
       "   0.0127147  \n",
       "   0.0127318  \n",
       "   0.0126983  \n",
       "   0.0128332  \n",
       "   0.00738499 \n",
       "   0.0241738  \n",
       "   0.000160063\n",
       "   0.545583   \n",
       "  -6.25424    \n",
       " 159.314      "
      ]
     },
     "execution_count": 60,
     "metadata": {},
     "output_type": "execute_result"
    }
   ],
   "source": [
    "Vf"
   ]
  },
  {
   "cell_type": "code",
   "execution_count": 42,
   "metadata": {},
   "outputs": [
    {
     "data": {
      "text/plain": [
       "1.0666666666666667"
      ]
     },
     "execution_count": 42,
     "metadata": {},
     "output_type": "execute_result"
    }
   ],
   "source": [
    "coefint2"
   ]
  },
  {
   "cell_type": "code",
   "execution_count": null,
   "metadata": {},
   "outputs": [],
   "source": []
  }
 ],
 "metadata": {
  "kernelspec": {
   "display_name": "Julia 0.6.0",
   "language": "julia",
   "name": "julia-0.6"
  },
  "language_info": {
   "file_extension": ".jl",
   "mimetype": "application/julia",
   "name": "julia",
   "version": "0.6.0"
  }
 },
 "nbformat": 4,
 "nbformat_minor": 2
}
