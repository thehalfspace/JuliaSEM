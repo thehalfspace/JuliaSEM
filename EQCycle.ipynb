{
 "cells": [
  {
   "cell_type": "markdown",
   "metadata": {},
   "source": [
    "<h1><center> Earthquake Cycle Simulations"
   ]
  },
  {
   "cell_type": "code",
   "execution_count": 13,
   "metadata": {},
   "outputs": [
    {
     "name": "stdout",
     "output_type": "stream",
     "text": [
      "Total number of nodes on fault = 481\n",
      "Average node spacing = 100.0\n",
      "dt = 0.01121578003618723"
     ]
    },
    {
     "name": "stderr",
     "output_type": "stream",
     "text": [
      "WARNING: redefining constant NelX\n",
      "WARNING: redefining constant NelY\n",
      "WARNING: redefining constant dxe\n",
      "WARNING: redefining constant dye\n",
      "WARNING: redefining constant Nel\n",
      "WARNING: redefining constant FaultNglob\n",
      "WARNING: redefining constant dx_dxi\n",
      "WARNING: redefining constant dy_deta\n",
      "WARNING: redefining constant jac\n",
      "WARNING: redefining constant Vo\n",
      "WARNING: redefining constant xLf\n",
      "WARNING: redefining constant nglob\n",
      "WARNING: redefining constant FltZ\n",
      "WARNING: redefining constant FltX\n"
     ]
    },
    {
     "name": "stdout",
     "output_type": "stream",
     "text": [
      "\n",
      "Setup Complete\n",
      " 16.214674 seconds (36.16 M allocations: 2.850 GiB, 2.63% gc time)\n"
     ]
    },
    {
     "name": "stderr",
     "output_type": "stream",
     "text": [
      "WARNING: redefining constant iFBC\n",
      "WARNING: redefining constant NFBC\n",
      "WARNING: redefining constant FltIglobBC\n"
     ]
    }
   ],
   "source": [
    "@time include(\"src/setup.jl\")"
   ]
  },
  {
   "cell_type": "code",
   "execution_count": 14,
   "metadata": {},
   "outputs": [
    {
     "name": "stdout",
     "output_type": "stream",
     "text": [
      "\n",
      "Time (yr) = 3.8194e-07\n",
      "Time (yr) = 5.5977e-07\n",
      "Time (yr) = 7.3759e-07\n",
      "Time (yr) = 29.059\n",
      "Time (yr) = 85.911\n",
      "Simulation Complete\n",
      "31751.414444 seconds (226.62 G allocations: 46.577 TiB, 35.60% gc time)\n"
     ]
    }
   ],
   "source": [
    "@time include(\"src/timesolver.jl\")"
   ]
  },
  {
   "cell_type": "markdown",
   "metadata": {},
   "source": [
    "<h3> Save the variables to data folder"
   ]
  },
  {
   "cell_type": "code",
   "execution_count": 15,
   "metadata": {},
   "outputs": [],
   "source": [
    "using JLD\n",
    "\n",
    "@save \"data/testing/test02.jld\""
   ]
  },
  {
   "cell_type": "code",
   "execution_count": null,
   "metadata": {},
   "outputs": [],
   "source": []
  },
  {
   "cell_type": "code",
   "execution_count": 19,
   "metadata": {},
   "outputs": [
    {
     "data": {
      "text/plain": [
       "1000.0"
      ]
     },
     "execution_count": 19,
     "metadata": {},
     "output_type": "execute_result"
    }
   ],
   "source": [
    "ThickY"
   ]
  },
  {
   "cell_type": "code",
   "execution_count": 5,
   "metadata": {},
   "outputs": [
    {
     "data": {
      "text/plain": [
       "121×2 Array{Float64,2}:\n",
       " 7.75445e-9  7.90382e-9\n",
       " 7.75445e-9  7.90382e-9\n",
       " 7.75445e-9  7.90382e-9\n",
       " 7.75445e-9  7.90382e-9\n",
       " 7.75445e-9  7.90382e-9\n",
       " 7.75445e-9  7.90382e-9\n",
       " 7.75445e-9  7.90382e-9\n",
       " 7.75445e-9  7.90382e-9\n",
       " 7.75445e-9  7.90382e-9\n",
       " 7.75445e-9  7.90382e-9\n",
       " 7.75445e-9  7.90382e-9\n",
       " 7.75445e-9  7.90382e-9\n",
       " 7.75445e-9  7.90382e-9\n",
       " ⋮                     \n",
       " 0.0149609   0.01584   \n",
       " 0.0149429   0.0158174 \n",
       " 0.0149059   0.0157714 \n",
       " 0.0148707   0.015728  \n",
       " 0.0148275   0.0156743 \n",
       " 0.0145547   0.0153417 \n",
       " 0.0128118   0.0133666 \n",
       " 0.0110341   0.0114282 \n",
       " 0.00986319  0.0101647 \n",
       " 0.0093902   0.00965679\n",
       " 0.0079516   0.00841087\n",
       " 2.24316e-5  0.038288  "
      ]
     },
     "execution_count": 5,
     "metadata": {},
     "output_type": "execute_result"
    }
   ],
   "source": [
    "delfsec"
   ]
  },
  {
   "cell_type": "code",
   "execution_count": 6,
   "metadata": {},
   "outputs": [
    {
     "data": {
      "text/plain": [
       "121×50 Array{Float64,2}:\n",
       " 0.0711624  0.142634  0.211922  …  3.29254  3.36001  3.43102  3.50164\n",
       " 0.0711624  0.142634  0.211922     3.29254  3.36001  3.43102  3.50164\n",
       " 0.0711624  0.142634  0.211922     3.29254  3.36001  3.43102  3.50164\n",
       " 0.0711624  0.142634  0.211922     3.29254  3.36001  3.43102  3.50164\n",
       " 0.0711624  0.142634  0.211922     3.29254  3.36001  3.43102  3.50164\n",
       " 0.0711624  0.142634  0.211922  …  3.29254  3.36001  3.43102  3.50164\n",
       " 0.0711624  0.142634  0.211922     3.29254  3.36001  3.43102  3.50164\n",
       " 0.0711624  0.142634  0.211922     3.29254  3.36001  3.43102  3.50164\n",
       " 0.0711624  0.142634  0.211922     3.29254  3.36001  3.43102  3.50164\n",
       " 0.0711624  0.142634  0.211922     3.29254  3.36001  3.43102  3.50164\n",
       " 0.0711624  0.142634  0.211922  …  3.29254  3.36001  3.43102  3.50164\n",
       " 0.0711624  0.142634  0.211922     3.29254  3.36001  3.43102  3.50164\n",
       " 0.0711624  0.142634  0.211922     3.29254  3.36001  3.43102  3.50164\n",
       " ⋮                              ⋱                                    \n",
       " 2.20545    2.20547   2.20549      2.20562  2.20562  2.20562  2.20563\n",
       " 2.22191    2.22193   2.22195   …  2.22207  2.22207  2.22208  2.22208\n",
       " 2.23331    2.23333   2.23334      2.23345  2.23346  2.23346  2.23346\n",
       " 2.23638    2.2364    2.23641      2.23652  2.23653  2.23653  2.23653\n",
       " 2.23676    2.23677   2.23678      2.2369   2.2369   2.23691  2.23691\n",
       " 2.22831    2.22833   2.22834      2.22849  2.22849  2.2285   2.2285 \n",
       " 2.20696    2.20704   2.20708   …  2.20776  2.20779  2.20783  2.20788\n",
       " 2.19482    2.1952    2.19542      2.20268  2.20369  2.20511  2.20701\n",
       " 2.18744    2.18845   2.18907      2.22062  2.22402  2.22799  2.23228\n",
       " 2.18254    2.18482   2.18625      2.25268  2.25594  2.25963  2.26357\n",
       " 2.17051    2.1726    2.17398      2.23436  2.2367   2.23934  2.24213\n",
       " 2.14434    2.14434   2.14434   …  2.14434  2.14434  2.14434  2.14434"
      ]
     },
     "execution_count": 6,
     "metadata": {},
     "output_type": "execute_result"
    }
   ],
   "source": [
    "delf5yr"
   ]
  },
  {
   "cell_type": "code",
   "execution_count": null,
   "metadata": {},
   "outputs": [],
   "source": []
  }
 ],
 "metadata": {
  "kernelspec": {
   "display_name": "Julia 0.6.0",
   "language": "julia",
   "name": "julia-0.6"
  },
  "language_info": {
   "file_extension": ".jl",
   "mimetype": "application/julia",
   "name": "julia",
   "version": "0.6.0"
  }
 },
 "nbformat": 4,
 "nbformat_minor": 2
}
