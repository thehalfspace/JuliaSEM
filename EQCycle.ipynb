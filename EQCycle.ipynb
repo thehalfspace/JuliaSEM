{
 "cells": [
  {
   "cell_type": "markdown",
   "metadata": {},
   "source": [
    "<h1> Earthquake Cycle Simulations"
   ]
  },
  {
   "cell_type": "code",
   "execution_count": null,
   "metadata": {},
   "outputs": [],
   "source": [
    "# Plot friction parameters\n",
    "using Gadfly\n",
    "\n",
    "fricPlot = plot(layer(x = (cca-ccb).*1e3 + 10, y = FltX/1e3,Theme(default_color=colorant\"red\"), Geom.point),\n",
    "                layer(x = Seff/1e6, y = FltX/1e3, Theme(default_color=colorant\"deepskyblue\"), Geom.point),\n",
    "                layer(x = tauo/1e6, y = FltX/1e3, Theme(default_color=colorant\"green\"), Geom.point),\n",
    "                Guide.xlabel(\"Scaled (a-b)/ Stress value\"),\n",
    "                Guide.ylabel(\"Depth (m)\"),\n",
    "                Guide.title(\"Rate and state friction/Stress\"),\n",
    "                Coord.Cartesian(ymin=-24))"
   ]
  },
  {
   "cell_type": "code",
   "execution_count": null,
   "metadata": {},
   "outputs": [],
   "source": [
    "@time include(\"src/setup.jl\")\n",
    "@time include(\"src/timesolver.jl\")"
   ]
  },
  {
   "cell_type": "code",
   "execution_count": 1,
   "metadata": {},
   "outputs": [
    {
     "name": "stdout",
     "output_type": "stream",
     "text": [
      "Total number of nodes on fault = 121\n",
      "Average node spacing = 400.0\n",
      "dt = 0.04486312014474891\n",
      "Setup Complete\n"
     ]
    }
   ],
   "source": [
    "include(\"src/setup.jl\")"
   ]
  },
  {
   "cell_type": "code",
   "execution_count": 2,
   "metadata": {},
   "outputs": [],
   "source": [
    "include(\"src/PCG.jl\")\n",
    "include(\"src/dtevol.jl\")\n",
    "include(\"src/NRsearch.jl\")\n",
    "include(\"src/otherFunctions.jl\")\n",
    "\n",
    "vPre = v[:]\n",
    "        dPre = d[:]\n",
    "\n",
    "        Vf0 = 2*v[iFlt] + Vpl\n",
    "        Vf = Vf0[:];"
   ]
  },
  {
   "cell_type": "code",
   "execution_count": 6,
   "metadata": {},
   "outputs": [
    {
     "data": {
      "text/plain": [
       "9801×1 Array{Float64,2}:\n",
       " 0.0\n",
       " 0.0\n",
       " 0.0\n",
       " 0.0\n",
       " 0.0\n",
       " 0.0\n",
       " 0.0\n",
       " 0.0\n",
       " 0.0\n",
       " 0.0\n",
       " 0.0\n",
       " 0.0\n",
       " 0.0\n",
       " ⋮  \n",
       " 0.0\n",
       " 0.0\n",
       " 0.0\n",
       " 0.0\n",
       " 0.0\n",
       " 0.0\n",
       " 0.0\n",
       " 0.0\n",
       " 0.0\n",
       " 0.0\n",
       " 0.0\n",
       " 0.0"
      ]
     },
     "execution_count": 6,
     "metadata": {},
     "output_type": "execute_result"
    }
   ],
   "source": [
    "a"
   ]
  },
  {
   "cell_type": "code",
   "execution_count": 9,
   "metadata": {},
   "outputs": [
    {
     "name": "stdout",
     "output_type": "stream",
     "text": [
      "n = 4000\n"
     ]
    },
    {
     "ename": "LoadError",
     "evalue": "\u001b[91mPCG did not converge\u001b[39m",
     "output_type": "error",
     "traceback": [
      "\u001b[91mPCG did not converge\u001b[39m",
      "",
      "Stacktrace:",
      " [1] \u001b[1mPCG\u001b[22m\u001b[22m\u001b[1m(\u001b[22m\u001b[22m::Float64, ::Float64, ::Array{Float64,1}, ::Array{Float64,1}, ::Array{Float64,2}, ::Array{Int32,2}, ::Array{Int64,1}, ::Array{Float64,2}, ::Array{Float64,2}, ::Array{Int32,3}, ::Int64, ::Int64, ::Array{Float64,3}\u001b[1m)\u001b[22m\u001b[22m at \u001b[1m/Volumes/GoogleDrive/My Drive/Work/Code/JuliaSEMCycle/src/PCG.jl:59\u001b[22m\u001b[22m"
     ]
    }
   ],
   "source": [
    "F[:] = 0\n",
    "            F[iFlt] = dPre[iFlt] + v[iFlt]*dt\n",
    "\n",
    "            # Assign previous displacement field as initial guess\n",
    "            dnew = d[FltNI]\n",
    "\n",
    "            # Solve d = K^-1F by PCG\n",
    "            dnew = PCG(coefint1, coefint2, diagKnew, dnew, F, iFlt, FltNI,\n",
    "                          H, Ht, iglob, Nel, nglob, W);"
   ]
  },
  {
   "cell_type": "code",
   "execution_count": 8,
   "metadata": {},
   "outputs": [
    {
     "data": {
      "text/plain": [
       "9801×1 Array{Float64,2}:\n",
       " 0.0\n",
       " 0.0\n",
       " 0.0\n",
       " 0.0\n",
       " 0.0\n",
       " 0.0\n",
       " 0.0\n",
       " 0.0\n",
       " 0.0\n",
       " 0.0\n",
       " 0.0\n",
       " 0.0\n",
       " 0.0\n",
       " ⋮  \n",
       " 0.0\n",
       " 0.0\n",
       " 0.0\n",
       " 0.0\n",
       " 0.0\n",
       " 0.0\n",
       " 0.0\n",
       " 0.0\n",
       " 0.0\n",
       " 0.0\n",
       " 0.0\n",
       " 0.0"
      ]
     },
     "execution_count": 8,
     "metadata": {},
     "output_type": "execute_result"
    }
   ],
   "source": [
    "a"
   ]
  },
  {
   "cell_type": "code",
   "execution_count": null,
   "metadata": {},
   "outputs": [],
   "source": []
  },
  {
   "cell_type": "code",
   "execution_count": null,
   "metadata": {},
   "outputs": [],
   "source": [
    " # update displacement on the medium\n",
    "            d[FltNI] = dnew\n",
    "\n",
    "            # make d = F on the fault\n",
    "            d[iFlt] = F[iFlt]\n",
    "\n",
    "            # Compute on-fault stress\n",
    "            a[:] = 0\n",
    "            for eo = 1:Nel\n",
    "                ig = iglob[:,:,eo]\n",
    "                locall = d[ig]\n",
    "\n",
    "                # Gradients wrt local variables\n",
    "                d_xi = Ht*locall\n",
    "                d_eta = locall*H\n",
    "\n",
    "                # Element contribution\n",
    "                wloc = W[:,:,eo]\n",
    "                d_xi = wloc.*d_xi\n",
    "                d_xi = H*d_xi\n",
    "                d_eta = wloc.*d_eta\n",
    "                d_eta = d_eta*Ht\n",
    "                locall = coefint1*d_xi + coefint2*d_eta\n",
    "\n",
    "                # Assemble into global vector\n",
    "                a[ig] = a[ig] + locall\n",
    "            end\n"
   ]
  },
  {
   "cell_type": "code",
   "execution_count": null,
   "metadata": {},
   "outputs": [],
   "source": [
    "a[FltIglobBC] = 0\n",
    "            tau1 = -a[iFlt]./FltB"
   ]
  },
  {
   "cell_type": "code",
   "execution_count": null,
   "metadata": {},
   "outputs": [],
   "source": [
    "for jF = 1:FaultNglob-NFBC \n",
    "\n",
    "                j = jF - 1 + NFBC\n",
    "                psi1[j] = IDS(psi[j], dt, Vo[j], xLf[j], Vf[j], 1e-6)\n",
    "\n",
    "                tauAB[j] = tau1[j] + tauo[j]\n",
    "                fa = tauAB[j]/(Seff[j]*cca[j])\n",
    "                help = -(fo[j] + ccb[j]*psi1[j])/cca[j]\n",
    "                help1 = exp(help + fa)\n",
    "                help2 = exp(help - fa)\n",
    "                Vf1[j] = Vo[j]*(help1 - help2) \n",
    "            end"
   ]
  },
  {
   "cell_type": "code",
   "execution_count": null,
   "metadata": {},
   "outputs": [],
   "source": [
    "Vf1"
   ]
  },
  {
   "cell_type": "code",
   "execution_count": null,
   "metadata": {},
   "outputs": [],
   "source": [
    " Vf1[iFBC] = Vpl\n",
    "            Vf = (Vf0 + Vf1)/2\n",
    "            v[iFlt] = 0.5*(Vf - Vpl);"
   ]
  },
  {
   "cell_type": "code",
   "execution_count": null,
   "metadata": {},
   "outputs": [],
   "source": []
  },
  {
   "cell_type": "code",
   "execution_count": null,
   "metadata": {},
   "outputs": [],
   "source": []
  },
  {
   "cell_type": "code",
   "execution_count": null,
   "metadata": {},
   "outputs": [],
   "source": []
  },
  {
   "cell_type": "markdown",
   "metadata": {},
   "source": [
    "<h3> PCG debug"
   ]
  },
  {
   "cell_type": "code",
   "execution_count": null,
   "metadata": {},
   "outputs": [],
   "source": [
    " global a \n",
    "    a[:] =0 # zeros(nglob)\n",
    "    dd = zeros(nglob)\n",
    "    p = zeros(nglob)\n",
    "    \n",
    "    a = element_computation(Nel, iglob, F, H, Ht, coefint1, coefint2, W)\n",
    "    Fnew = -a[FltNI]\n",
    "\n",
    "    dd[FltNI] = dnew\n",
    "    dd[iFlt] = 0\n",
    "\n",
    "    a[:] = 0\n",
    "    \n",
    "    a = element_computation(Nel, iglob, dd, H, Ht, coefint1, coefint2, W)\n",
    "    anew = a[FltNI]\n",
    "\n",
    "    # Initial residue\n",
    "    rnew = Fnew - anew\n",
    "    znew = rnew./diagKnew\n",
    "    pnew = znew\n",
    "    p[:] = 0\n",
    "    p[FltNI] = pnew\n",
    "\n",
    "    for n = 1:4000\n",
    "        anew[:] = 0\n",
    "        a[:] = 0\n",
    "        \n",
    "        a = element_computation(Nel, iglob, p, H, Ht, coefint1, coefint2, W)\n",
    "\n",
    "        anew = a[FltNI]\n",
    "        alpha_ = znew'*rnew/(pnew'*anew)\n",
    "        dnew = dnew + alpha_*pnew\n",
    "        rold = rnew\n",
    "        zold = znew\n",
    "        rnew = rold - alpha_*anew\n",
    "        znew = rnew./diagKnew\n",
    "        beta_ = znew'*rnew/(zold'*rold)\n",
    "        pnew = znew + beta_*pnew\n",
    "        p[:] = 0\n",
    "        p[FltNI] = pnew\n",
    "\n",
    "        if norm(rnew)/norm(Fnew) < 1e-5\n",
    "            break;\n",
    "        end\n",
    "\n",
    "        if n == 4000 || norm(rnew)/norm(Fnew) > 1e10\n",
    "            println(\"n = \", n)\n",
    "            error(\"PCG did not converge\")\n",
    "            return\n",
    "        end\n",
    "    end"
   ]
  },
  {
   "cell_type": "code",
   "execution_count": null,
   "metadata": {},
   "outputs": [],
   "source": [
    "znew"
   ]
  },
  {
   "cell_type": "code",
   "execution_count": null,
   "metadata": {},
   "outputs": [],
   "source": []
  }
 ],
 "metadata": {
  "kernelspec": {
   "display_name": "Julia 0.6.0",
   "language": "julia",
   "name": "julia-0.6"
  },
  "language_info": {
   "file_extension": ".jl",
   "mimetype": "application/julia",
   "name": "julia",
   "version": "0.6.0"
  }
 },
 "nbformat": 4,
 "nbformat_minor": 2
}
