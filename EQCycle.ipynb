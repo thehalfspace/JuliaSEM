{
 "cells": [
  {
   "cell_type": "code",
   "execution_count": 41,
   "metadata": {},
   "outputs": [
    {
     "name": "stdout",
     "output_type": "stream",
     "text": [
      "Total number of nodes on fault = 121\n",
      "Average node spacing = 0.0004\n",
      "dt = 0.00007477186690791\n",
      "Setup Complete\n",
      "  0.839908 seconds (494.31 k allocations: 28.661 MiB, 0.39% gc time)\n"
     ]
    },
    {
     "name": "stderr",
     "output_type": "stream",
     "text": [
      "WARNING: redefining constant Vo\n",
      "WARNING: redefining constant xLf\n"
     ]
    }
   ],
   "source": [
    "@time include(\"setup.jl\")"
   ]
  },
  {
   "cell_type": "code",
   "execution_count": null,
   "metadata": {},
   "outputs": [],
   "source": [
    "# Plot friction parameters\n",
    "using Gadfly\n",
    "\n",
    "fricPlot = plot(layer(x = (cca-ccb).*1e3 + 10, y = FltX,Theme(default_color=colorant\"red\"), Geom.point),\n",
    "                layer(x = Seff/1e6, y = FltX, Theme(default_color=colorant\"deepskyblue\"), Geom.point),\n",
    "                layer(x = tauo/1e6, y = FltX, Theme(default_color=colorant\"green\"), Geom.point),\n",
    "                Guide.xlabel(\"Scaled (a-b)/ Stress value\"),\n",
    "                Guide.ylabel(\"Depth (m)\"),\n",
    "                Guide.title(\"Rate and state friction/Stress\"),\n",
    "                Coord.Cartesian(ymin=-24))"
   ]
  },
  {
   "cell_type": "code",
   "execution_count": 65,
   "metadata": {},
   "outputs": [
    {
     "name": "stdout",
     "output_type": "stream",
     "text": [
      "PCG did not converge\n"
     ]
    },
    {
     "ename": "LoadError",
     "evalue": "LoadError: \u001b[91mMethodError: Cannot `convert` an object of type Void to an object of type Float64\nThis may have arisen from a call to the constructor Float64(...),\nsince type constructors fall back to convert methods.\u001b[39m\nwhile loading /Volumes/GoogleDrive/My Drive/Work/Code/JuliaSEMCycle/timesolver.jl, in expression starting on line 75",
     "output_type": "error",
     "traceback": [
      "LoadError: \u001b[91mMethodError: Cannot `convert` an object of type Void to an object of type Float64\nThis may have arisen from a call to the constructor Float64(...),\nsince type constructors fall back to convert methods.\u001b[39m\nwhile loading /Volumes/GoogleDrive/My Drive/Work/Code/JuliaSEMCycle/timesolver.jl, in expression starting on line 75",
      "",
      "Stacktrace:",
      " [1] \u001b[1msetindex!\u001b[22m\u001b[22m\u001b[1m(\u001b[22m\u001b[22m::Array{Float64,2}, ::Void, ::Array{Int64,1}\u001b[1m)\u001b[22m\u001b[22m at \u001b[1m./array.jl:557\u001b[22m\u001b[22m",
      " [2] \u001b[1mmacro expansion\u001b[22m\u001b[22m at \u001b[1m/Volumes/GoogleDrive/My Drive/Work/Code/JuliaSEMCycle/timesolver.jl:104\u001b[22m\u001b[22m [inlined]",
      " [3] \u001b[1manonymous\u001b[22m\u001b[22m at \u001b[1m./<missing>:?\u001b[22m\u001b[22m",
      " [4] \u001b[1minclude_from_node1\u001b[22m\u001b[22m\u001b[1m(\u001b[22m\u001b[22m::String\u001b[1m)\u001b[22m\u001b[22m at \u001b[1m./loading.jl:569\u001b[22m\u001b[22m",
      " [5] \u001b[1minclude\u001b[22m\u001b[22m\u001b[1m(\u001b[22m\u001b[22m::String\u001b[1m)\u001b[22m\u001b[22m at \u001b[1m./sysimg.jl:14\u001b[22m\u001b[22m"
     ]
    }
   ],
   "source": [
    "@time include(\"timesolver.jl\")"
   ]
  },
  {
   "cell_type": "code",
   "execution_count": 66,
   "metadata": {},
   "outputs": [
    {
     "data": {
      "text/plain": [
       "58"
      ]
     },
     "execution_count": 66,
     "metadata": {},
     "output_type": "execute_result"
    }
   ],
   "source": [
    "it"
   ]
  },
  {
   "cell_type": "code",
   "execution_count": 68,
   "metadata": {},
   "outputs": [
    {
     "data": {
      "text/plain": [
       "121×1 Array{Float64,2}:\n",
       "    0.0        \n",
       "    0.0        \n",
       "    0.0        \n",
       "    0.0        \n",
       "    0.0        \n",
       "    0.0        \n",
       "    0.0        \n",
       "    0.0        \n",
       "    0.0        \n",
       "    0.0        \n",
       "    0.0        \n",
       "    0.0        \n",
       "    0.0        \n",
       "    ⋮          \n",
       "    8.0993e8   \n",
       "    8.61731e11 \n",
       "    2.92303e16 \n",
       "    6.65034e19 \n",
       "    1.74471e24 \n",
       "    2.00553e37 \n",
       "    6.05802e65 \n",
       "    2.28505e229\n",
       "   -3.50151e11 \n",
       "  Inf          \n",
       " -Inf          \n",
       "   -1.10984e-9 "
      ]
     },
     "execution_count": 68,
     "metadata": {},
     "output_type": "execute_result"
    }
   ],
   "source": [
    "v[iFlt]"
   ]
  },
  {
   "cell_type": "code",
   "execution_count": null,
   "metadata": {},
   "outputs": [],
   "source": []
  }
 ],
 "metadata": {
  "kernelspec": {
   "display_name": "Julia 0.6.0",
   "language": "julia",
   "name": "julia-0.6"
  },
  "language_info": {
   "file_extension": ".jl",
   "mimetype": "application/julia",
   "name": "julia",
   "version": "0.6.0"
  }
 },
 "nbformat": 4,
 "nbformat_minor": 2
}
