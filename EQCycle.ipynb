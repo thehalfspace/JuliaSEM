{
 "cells": [
  {
   "cell_type": "markdown",
   "metadata": {},
   "source": [
    "<h1><center> Earthquake Cycle Simulations"
   ]
  },
  {
   "cell_type": "code",
   "execution_count": 5,
   "metadata": {},
   "outputs": [
    {
     "name": "stdout",
     "output_type": "stream",
     "text": [
      "Total number of nodes on fault = 121\n",
      "Average node spacing = 400.0\n",
      "dt = 0.04486312014474891"
     ]
    },
    {
     "name": "stderr",
     "output_type": "stream",
     "text": [
      "WARNING: redefining constant Vo\n",
      "WARNING: redefining constant xLf\n",
      "WARNING: redefining constant FltZ\n",
      "WARNING: redefining constant FltX\n"
     ]
    },
    {
     "name": "stdout",
     "output_type": "stream",
     "text": [
      "\n",
      "Setup Complete\n",
      "  2.462893 seconds (2.86 M allocations: 458.398 MiB, 8.52% gc time)\n"
     ]
    },
    {
     "name": "stderr",
     "output_type": "stream",
     "text": [
      "WARNING: redefining constant iFBC\n",
      "WARNING: redefining constant FltIglobBC\n"
     ]
    }
   ],
   "source": [
    "p = @time include(\"src/setup.jl\")"
   ]
  },
  {
   "cell_type": "code",
   "execution_count": 102,
   "metadata": {},
   "outputs": [
    {
     "name": "stdout",
     "output_type": "stream",
     "text": [
      "\n",
      "Time (yr) = 3.8034e-07\n",
      "Time (yr) = 5.5816e-07\n",
      "Time (yr) = 7.3599e-07\n",
      "Time (yr) = 9.1381e-07\n",
      "Time (yr) = 24.471\n",
      "Time (yr) = 80.701\n",
      "Time (yr) = 114.64\n",
      "Time (yr) = 138.09\n",
      "Time (yr) = 139.68\n",
      "Time (yr) = 139.7\n",
      "Time (yr) = 139.7\n",
      "Time (yr) = 139.73\n",
      "Time (yr) = 139.9\n",
      "Time (yr) = 142.59\n",
      "Time (yr) = 165.99\n",
      "Time (yr) = 168.28\n",
      "Time (yr) = 168.32\n",
      "Time (yr) = 168.32\n",
      "Time (yr) = 168.32\n",
      "Time (yr) = 168.32\n",
      "Time (yr) = 168.32\n",
      "Time (yr) = 168.32\n",
      "Time (yr) = 168.32\n",
      "Time (yr) = 168.32\n",
      "Time (yr) = 168.32\n",
      "Time (yr) = 168.32\n",
      "Time (yr) = 168.32\n",
      "Time (yr) = 168.32\n",
      "Time (yr) = 168.32\n",
      "Time (yr) = 168.32\n",
      "Time (yr) = 168.32\n",
      "Time (yr) = 168.32\n",
      "Time (yr) = 168.32\n",
      "Time (yr) = 168.32\n",
      "Time (yr) = 168.32\n",
      "Time (yr) = 168.32\n",
      "Time (yr) = 168.32\n",
      "Time (yr) = 168.32\n",
      "Time (yr) = 168.32\n",
      "Time (yr) = 168.32\n",
      "Time (yr) = 168.32\n",
      "Time (yr) = 168.32\n",
      "Time (yr) = 168.32\n",
      "Time (yr) = 168.32\n",
      "Time (yr) = 168.32\n",
      "Time (yr) = 168.32\n",
      "Time (yr) = 168.32\n",
      "Time (yr) = 168.32\n",
      "Time (yr) = 168.32\n",
      "Time (yr) = 168.32\n",
      "Time (yr) = 168.32\n",
      "Time (yr) = 168.32\n",
      "Time (yr) = 168.32\n",
      "Time (yr) = 168.32\n",
      "Time (yr) = 168.32\n",
      "Time (yr) = 168.32\n",
      "Time (yr) = 168.32\n",
      "Time (yr) = 168.32\n",
      "Time (yr) = 168.32\n",
      "Time (yr) = 168.32\n",
      "Time (yr) = 168.32\n",
      "Time (yr) = 168.32\n",
      "Time (yr) = 168.32\n",
      "Time (yr) = 168.32\n",
      "Time (yr) = 168.34\n",
      "Time (yr) = 176.31\n",
      "Time (yr) = 226.65\n",
      "Time (yr) = 244.37\n",
      "Time (yr) = 265.66\n",
      "Time (yr) = 272.89\n",
      "Time (yr) = 272.89\n",
      "Time (yr) = 272.89\n",
      "Time (yr) = 272.89\n",
      "Time (yr) = 272.89\n",
      "Time (yr) = 272.89\n",
      "Time (yr) = 272.89\n",
      "Time (yr) = 272.89\n",
      "Time (yr) = 272.89\n",
      "Time (yr) = 272.89\n",
      "Time (yr) = 272.89\n",
      "Time (yr) = 272.89\n",
      "Time (yr) = 272.89\n",
      "Time (yr) = 272.89\n",
      "Time (yr) = 272.89\n",
      "Time (yr) = 272.89\n",
      "Time (yr) = 272.89\n",
      "Time (yr) = 272.9\n",
      "Time (yr) = 272.9\n",
      "Time (yr) = 272.9\n",
      "Time (yr) = 272.9\n",
      "Time (yr) = 272.9\n",
      "Time (yr) = 272.9\n",
      "Time (yr) = 272.9\n",
      "Time (yr) = 272.9\n",
      "Time (yr) = 272.9\n",
      "Time (yr) = 272.9\n",
      "Time (yr) = 272.9\n",
      "Time (yr) = 272.9\n",
      "Time (yr) = 272.9\n",
      "Time (yr) = 272.9\n",
      "Time (yr) = 272.9\n",
      "Time (yr) = 272.9\n",
      "Time (yr) = 272.9\n",
      "Time (yr) = 272.9\n",
      "Time (yr) = 272.9\n",
      "Time (yr) = 272.9\n",
      "Time (yr) = 272.9\n",
      "Time (yr) = 272.9\n",
      "Time (yr) = 272.9\n",
      "Time (yr) = 272.9\n",
      "Time (yr) = 272.9\n",
      "Time (yr) = 272.9\n",
      "Time (yr) = 272.9\n",
      "Time (yr) = 272.9\n",
      "Time (yr) = 272.9\n",
      "Time (yr) = 272.9\n",
      "Time (yr) = 272.9\n",
      "Time (yr) = 272.9\n",
      "Time (yr) = 272.9\n",
      "Time (yr) = 272.9\n",
      "Time (yr) = 272.9\n",
      "Time (yr) = 272.9\n",
      "Time (yr) = 272.9\n",
      "Time (yr) = 272.9\n",
      "Time (yr) = 272.9\n",
      "Time (yr) = 272.9\n",
      "Time (yr) = 272.9\n",
      "Time (yr) = 272.9\n",
      "Time (yr) = 272.9\n",
      "Time (yr) = 272.9\n",
      "Time (yr) = 272.9\n",
      "Time (yr) = 272.9\n",
      "Time (yr) = 272.9\n",
      "Time (yr) = 272.9\n",
      "Time (yr) = 272.9\n",
      "Time (yr) = 272.9\n",
      "Time (yr) = 272.9\n",
      "Time (yr) = 272.9\n",
      "Time (yr) = 272.9\n",
      "Time (yr) = 272.9\n",
      "Time (yr) = 272.9\n",
      "Time (yr) = 272.9\n",
      "Time (yr) = 272.9\n",
      "Time (yr) = 272.9\n",
      "Time (yr) = 272.9\n",
      "Time (yr) = 272.9\n",
      "Time (yr) = 272.9\n",
      "Time (yr) = 272.9\n",
      "Time (yr) = 272.9\n",
      "Time (yr) = 272.9\n",
      "Time (yr) = 272.91\n",
      "Time (yr) = 272.91\n",
      "Time (yr) = 272.93\n",
      "Time (yr) = 273.02\n",
      "Time (yr) = 273.14\n",
      "Time (yr) = 273.32\n",
      "Time (yr) = 273.44\n",
      "Time (yr) = 273.46\n",
      "Time (yr) = 273.46\n",
      "Time (yr) = 273.46\n",
      "Time (yr) = 273.46\n",
      "Time (yr) = 273.46\n",
      "Time (yr) = 273.46\n",
      "Time (yr) = 273.46\n",
      "Time (yr) = 273.46\n",
      "Time (yr) = 273.46\n",
      "Time (yr) = 273.46\n",
      "Time (yr) = 273.46\n",
      "Time (yr) = 273.46\n",
      "Time (yr) = 273.46\n",
      "Time (yr) = 273.46\n",
      "Time (yr) = 273.46\n",
      "Time (yr) = 273.46\n",
      "Time (yr) = 273.46\n",
      "Time (yr) = 273.46\n",
      "Time (yr) = 273.46\n",
      "Time (yr) = 273.46\n",
      "Time (yr) = 273.46\n",
      "Time (yr) = 273.46\n",
      "Time (yr) = 273.46\n",
      "Time (yr) = 273.46\n",
      "Time (yr) = 273.46\n",
      "Time (yr) = 273.49\n",
      "Time (yr) = 291.83\n",
      "Simulation Complete\n",
      "138973.144370 seconds (903.01 G allocations: 177.908 TiB, 36.19% gc time)\n"
     ]
    }
   ],
   "source": [
    "performance = @time include(\"src/timesolver.jl\")"
   ]
  },
  {
   "cell_type": "markdown",
   "metadata": {},
   "source": [
    "<h3> Save the variables to data folder"
   ]
  },
  {
   "cell_type": "code",
   "execution_count": 10,
   "metadata": {},
   "outputs": [],
   "source": [
    "# Additional variables to be saved\n",
    "\n",
    "# Description of the simulation\n",
    "desc = \"Elastic halfspace, Fault Zone: 10 km deep, 1km wide\"\n",
    "\n",
    "# Time elapsed\n",
    "simulation_time = 0;"
   ]
  },
  {
   "cell_type": "code",
   "execution_count": 105,
   "metadata": {},
   "outputs": [],
   "source": [
    "using JLD\n",
    "\n",
    "@save \"data/testing/test05.jld\""
   ]
  },
  {
   "cell_type": "code",
   "execution_count": 9,
   "metadata": {},
   "outputs": [],
   "source": [
    "p"
   ]
  },
  {
   "cell_type": "code",
   "execution_count": null,
   "metadata": {},
   "outputs": [],
   "source": []
  }
 ],
 "metadata": {
  "kernelspec": {
   "display_name": "Julia 0.6.0",
   "language": "julia",
   "name": "julia-0.6"
  },
  "language_info": {
   "file_extension": ".jl",
   "mimetype": "application/julia",
   "name": "julia",
   "version": "0.6.0"
  }
 },
 "nbformat": 4,
 "nbformat_minor": 2
}
