{
 "cells": [
  {
   "cell_type": "markdown",
   "metadata": {},
   "source": [
    "<h1> Earthquake Cycle Simulations"
   ]
  },
  {
   "cell_type": "code",
   "execution_count": null,
   "metadata": {},
   "outputs": [],
   "source": [
    "# Plot friction parameters\n",
    "using Gadfly\n",
    "\n",
    "fricPlot = plot(layer(x = (cca-ccb).*1e3 + 10, y = FltX/1e3,Theme(default_color=colorant\"red\"), Geom.point),\n",
    "                layer(x = Seff/1e6, y = FltX/1e3, Theme(default_color=colorant\"deepskyblue\"), Geom.point),\n",
    "                layer(x = tauo/1e6, y = FltX/1e3, Theme(default_color=colorant\"green\"), Geom.point),\n",
    "                Guide.xlabel(\"Scaled (a-b)/ Stress value\"),\n",
    "                Guide.ylabel(\"Depth (m)\"),\n",
    "                Guide.title(\"Rate and state friction/Stress\"),\n",
    "                Coord.Cartesian(ymin=-24))"
   ]
  },
  {
   "cell_type": "code",
   "execution_count": 1,
   "metadata": {},
   "outputs": [
    {
     "name": "stdout",
     "output_type": "stream",
     "text": [
      "Total number of nodes on fault = 121\n",
      "Average node spacing = 400.0\n",
      "dt = 0.04486312014474891\n",
      "Setup Complete\n",
      "  8.045617 seconds (5.03 M allocations: 576.999 MiB, 1.55% gc time)\n",
      "\n",
      "Simulation Complete\n",
      " 19.762549 seconds (168.93 M allocations: 38.377 GiB, 7.07% gc time)\n"
     ]
    }
   ],
   "source": [
    "@time include(\"src/setup.jl\")\n",
    "@time include(\"src/timesolver.jl\")"
   ]
  },
  {
   "cell_type": "code",
   "execution_count": 3,
   "metadata": {
    "collapsed": true
   },
   "outputs": [
    {
     "name": "stdout",
     "output_type": "stream",
     "text": [
      "Total number of nodes on fault = 121\n",
      "Average node spacing = 400.0\n",
      "dt = 0.04486312014474891"
     ]
    },
    {
     "name": "stderr",
     "output_type": "stream",
     "text": [
      "WARNING: redefining constant Vo\n",
      "WARNING: redefining constant xLf\n"
     ]
    },
    {
     "name": "stdout",
     "output_type": "stream",
     "text": [
      "\n",
      "Setup Complete\n",
      "  2.159006 seconds (2.51 M allocations: 447.844 MiB, 4.51% gc time)\n"
     ]
    },
    {
     "name": "stderr",
     "output_type": "stream",
     "text": [
      "WARNING: redefining constant iFBC\n",
      "WARNING: redefining constant FltIglobBC\n"
     ]
    },
    {
     "data": {
      "text/plain": [
       "1-element Array{Float64,1}:\n",
       " 0.0"
      ]
     },
     "execution_count": 3,
     "metadata": {},
     "output_type": "execute_result"
    }
   ],
   "source": [
    "@time include(\"src/setup.jl\")\n",
    "include(\"src/PCG.jl\")\n",
    "include(\"src/dtevol.jl\")\n",
    "include(\"src/NRsearch.jl\")\n",
    "include(\"src/otherFunctions.jl\")\n",
    "\n",
    "temp = [0.0]"
   ]
  },
  {
   "cell_type": "code",
   "execution_count": 3,
   "metadata": {},
   "outputs": [
    {
     "data": {
      "text/plain": [
       "0"
      ]
     },
     "execution_count": 3,
     "metadata": {},
     "output_type": "execute_result"
    }
   ],
   "source": [
    " dPre = d[:]\n",
    "        vPre = v[:]\n",
    "\n",
    "        # Update\n",
    "        d = d + dt*v + (half_dt^2)*a\n",
    "\n",
    "        # Prediction\n",
    "        v = v + half_dt*a\n",
    "        a[:] = 0"
   ]
  },
  {
   "cell_type": "code",
   "execution_count": 25,
   "metadata": {},
   "outputs": [
    {
     "data": {
      "text/plain": [
       "5×5 Array{Float64,2}:\n",
       " 0.0  0.0  0.0  0.0  0.0\n",
       " 0.0  0.0  0.0  0.0  0.0\n",
       " 0.0  0.0  0.0  0.0  0.0\n",
       " 0.0  0.0  0.0  0.0  0.0\n",
       " 0.0  0.0  0.0  0.0  0.0"
      ]
     },
     "execution_count": 25,
     "metadata": {},
     "output_type": "execute_result"
    }
   ],
   "source": [
    "global locall = zeros(5,5)"
   ]
  },
  {
   "cell_type": "code",
   "execution_count": 26,
   "metadata": {},
   "outputs": [],
   "source": [
    "# Internal forces -K*d[t+1] stored in global array 'a'\n",
    "        for eo = 1:Nel\n",
    "            \n",
    "            # Switch to local element representation\n",
    "            ig = iglob[:,:,eo]\n",
    "            isETA = eo<=Nel_ETA\n",
    "            if isETA\n",
    "                locall = d[ig] + eta.*v[ig]\n",
    "            else\n",
    "                locall = d[ig]\n",
    "            end\n",
    "            # Gradients wrt local variables\n",
    "            d_xi = Ht*locall\n",
    "            d_eta = locall*H\n",
    "        \n",
    "            # Element contribution\n",
    "            wloc = W[:,:,eo]\n",
    "            d_xi = wloc.*d_xi\n",
    "            d_xi = H*d_xi\n",
    "            d_eta = wloc.*d_eta\n",
    "            d_eta = d_eta*Ht\n",
    "            locall = coefint1*d_xi + coefint2*d_eta\n",
    "\n",
    "            # Assemble into global vector\n",
    "            a[ig] = a[ig] - locall\n",
    "        \n",
    "        end"
   ]
  },
  {
   "cell_type": "code",
   "execution_count": 30,
   "metadata": {},
   "outputs": [
    {
     "data": {
      "text/plain": [
       "5×5 Array{Float64,2}:\n",
       "  -139.736  -71517.7     -92985.7     -70974.1     -13108.6  \n",
       " 70474.3        67.6643      75.2486      88.4307    -122.604\n",
       " 91980.8       894.112      -43.4397     511.854     -152.818\n",
       " 70594.5       438.812      485.364     -538.611      366.285\n",
       " 13045.2       -49.5355     286.316      520.792     -196.941"
      ]
     },
     "execution_count": 30,
     "metadata": {},
     "output_type": "execute_result"
    }
   ],
   "source": []
  },
  {
   "cell_type": "code",
   "execution_count": 2,
   "metadata": {
    "collapsed": true
   },
   "outputs": [
    {
     "data": {
      "text/plain": [
       "9801×1 Array{Float64,2}:\n",
       " 0.0\n",
       " 0.0\n",
       " 0.0\n",
       " 0.0\n",
       " 0.0\n",
       " 0.0\n",
       " 0.0\n",
       " 0.0\n",
       " 0.0\n",
       " 0.0\n",
       " 0.0\n",
       " 0.0\n",
       " 0.0\n",
       " ⋮  \n",
       " 0.0\n",
       " 0.0\n",
       " 0.0\n",
       " 0.0\n",
       " 0.0\n",
       " 0.0\n",
       " 0.0\n",
       " 0.0\n",
       " 0.0\n",
       " 0.0\n",
       " 0.0\n",
       " 0.0"
      ]
     },
     "execution_count": 2,
     "metadata": {},
     "output_type": "execute_result"
    }
   ],
   "source": [
    "eo = 1\n",
    "ig = iglob[:,:,eo]\n",
    "            isETA = eo<=Nel_ETA\n",
    "            if isETA\n",
    "                locall = d[ig] + eta.*v[ig]\n",
    "            else\n",
    "                locall = d[ig]\n",
    "            end\n",
    "            # Gradients wrt local variables\n",
    "            d_xi = Ht*locall\n",
    "            d_eta = locall*H\n",
    "        \n",
    "            # Element contribution\n",
    "            wloc = W[:,:,eo]\n",
    "            d_xi = wloc.*d_xi\n",
    "            d_xi = H*d_xi\n",
    "            d_eta = wloc.*d_eta\n",
    "            d_eta = d_eta*Ht\n",
    "            locall = coefint1*d_xi + coefint2*d_eta\n",
    "\n",
    "            # Assemble into global vector\n",
    "            a[ig] = a[ig] - locall"
   ]
  },
  {
   "cell_type": "code",
   "execution_count": 7,
   "metadata": {},
   "outputs": [
    {
     "data": {
      "text/plain": [
       "5×5 Array{Float64,2}:\n",
       " 0.0  -21.2991    56.7006   -27.26     2.16884\n",
       " 0.0   88.7545   358.095    420.435   62.7979 \n",
       " 0.0  321.512   1111.9     1261.48   258.956  \n",
       " 0.0  342.956   1211.82    1454.66   352.887  \n",
       " 0.0   85.7509   199.155    357.816   78.8734 "
      ]
     },
     "execution_count": 7,
     "metadata": {},
     "output_type": "execute_result"
    }
   ],
   "source": [
    "wloc = W[:,:,eo]\n",
    "            d_xi = wloc.*d_xi"
   ]
  },
  {
   "cell_type": "code",
   "execution_count": 10,
   "metadata": {},
   "outputs": [
    {
     "data": {
      "text/plain": [
       "5×5 Array{Float64,2}:\n",
       " 0.0  -1.22107e-8  2.48876e-8  -1.56281e-8  6.76956e-9\n",
       " 0.0   9.34579e-9  2.88696e-8   4.42716e-8  3.60018e-8\n",
       " 0.0   2.59202e-8  6.86318e-8   1.01701e-7  1.13663e-7\n",
       " 0.0   3.6113e-8   9.76965e-8   1.53175e-7  2.02309e-7\n",
       " 0.0   4.91607e-8  8.74151e-8   2.05135e-7  2.46186e-7"
      ]
     },
     "execution_count": 10,
     "metadata": {},
     "output_type": "execute_result"
    }
   ],
   "source": [
    "d_xi"
   ]
  },
  {
   "cell_type": "code",
   "execution_count": 13,
   "metadata": {},
   "outputs": [
    {
     "data": {
      "text/plain": [
       "5×5 Array{Float64,2}:\n",
       " 0.0  -1.22107e-8  2.48876e-8  -1.56281e-8  6.76956e-9\n",
       " 0.0   9.34579e-9  2.88696e-8   4.42716e-8  3.60018e-8\n",
       " 0.0   2.59202e-8  6.86318e-8   1.01701e-7  1.13663e-7\n",
       " 0.0   3.6113e-8   9.76965e-8   1.53175e-7  2.02309e-7\n",
       " 0.0   4.91607e-8  8.74151e-8   2.05135e-7  2.46186e-7"
      ]
     },
     "execution_count": 13,
     "metadata": {},
     "output_type": "execute_result"
    }
   ],
   "source": [
    "Ht*locall"
   ]
  },
  {
   "cell_type": "code",
   "execution_count": 14,
   "metadata": {},
   "outputs": [
    {
     "data": {
      "text/plain": [
       "5×5 Array{Float64,2}:\n",
       " 0.0  9.28195e-6  2.68671e-5  4.44419e-5  5.37001e-5\n",
       " 0.0  9.28182e-6  2.68758e-5  4.44477e-5  5.37072e-5\n",
       " 0.0  9.29453e-6  2.69066e-5  4.4498e-5   5.3755e-5 \n",
       " 0.0  9.31436e-6  2.69634e-5  4.45796e-5  5.38584e-5\n",
       " 0.0  9.32883e-6  2.6996e-5   4.46407e-5  5.3936e-5 "
      ]
     },
     "execution_count": 14,
     "metadata": {},
     "output_type": "execute_result"
    }
   ],
   "source": [
    "locall"
   ]
  },
  {
   "cell_type": "code",
   "execution_count": 15,
   "metadata": {},
   "outputs": [
    {
     "data": {
      "text/plain": [
       "5×5 Array{Float64,2}:\n",
       " -5.0       6.7565    -2.66667   1.41016   -0.5    \n",
       " -1.24099   0.0        1.74574  -0.763763   0.25901\n",
       "  0.375    -1.33658    0.0       1.33658   -0.375  \n",
       " -0.25901   0.763763  -1.74574   0.0        1.24099\n",
       "  0.5      -1.41016    2.66667  -6.7565     5.0    "
      ]
     },
     "execution_count": 15,
     "metadata": {},
     "output_type": "execute_result"
    }
   ],
   "source": [
    "Ht"
   ]
  },
  {
   "cell_type": "code",
   "execution_count": 17,
   "metadata": {},
   "outputs": [
    {
     "data": {
      "text/plain": [
       "3×3 Array{Int64,2}:\n",
       "  9  12  15\n",
       " 10  13  16\n",
       " 11  14  17"
      ]
     },
     "execution_count": 17,
     "metadata": {},
     "output_type": "execute_result"
    }
   ],
   "source": [
    "aq1 = reshape(collect(1:9),3,3)\n",
    "aq2 = reshape(collect(9:17),3,3)"
   ]
  },
  {
   "cell_type": "code",
   "execution_count": 18,
   "metadata": {},
   "outputs": [
    {
     "data": {
      "text/plain": [
       "3×3 Array{Int64,2}:\n",
       " 126  162  198\n",
       " 156  201  246\n",
       " 186  240  294"
      ]
     },
     "execution_count": 18,
     "metadata": {},
     "output_type": "execute_result"
    }
   ],
   "source": [
    "aq1*aq2"
   ]
  },
  {
   "cell_type": "code",
   "execution_count": null,
   "metadata": {},
   "outputs": [],
   "source": []
  }
 ],
 "metadata": {
  "kernelspec": {
   "display_name": "Julia 0.6.0",
   "language": "julia",
   "name": "julia-0.6"
  },
  "language_info": {
   "file_extension": ".jl",
   "mimetype": "application/julia",
   "name": "julia",
   "version": "0.6.0"
  }
 },
 "nbformat": 4,
 "nbformat_minor": 2
}
