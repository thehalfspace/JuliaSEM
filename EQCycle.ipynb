{
 "cells": [
  {
   "cell_type": "markdown",
   "metadata": {},
   "source": [
    "<h1> Earthquake Cycle Simulations"
   ]
  },
  {
   "cell_type": "code",
   "execution_count": null,
   "metadata": {},
   "outputs": [],
   "source": [
    "# Plot friction parameters\n",
    "using Gadfly\n",
    "\n",
    "fricPlot = plot(layer(x = (cca-ccb).*1e3 + 10, y = FltX/1e3,Theme(default_color=colorant\"red\"), Geom.point),\n",
    "                layer(x = Seff/1e6, y = FltX/1e3, Theme(default_color=colorant\"deepskyblue\"), Geom.point),\n",
    "                layer(x = tauo/1e6, y = FltX/1e3, Theme(default_color=colorant\"green\"), Geom.point),\n",
    "                Guide.xlabel(\"Scaled (a-b)/ Stress value\"),\n",
    "                Guide.ylabel(\"Depth (m)\"),\n",
    "                Guide.title(\"Rate and state friction/Stress\"),\n",
    "                Coord.Cartesian(ymin=-24))"
   ]
  },
  {
   "cell_type": "code",
   "execution_count": 106,
   "metadata": {},
   "outputs": [
    {
     "name": "stdout",
     "output_type": "stream",
     "text": [
      "Total number of nodes on fault = 121\n",
      "Average node spacing = 400.0\n",
      "dt = 0.04486312014474891"
     ]
    },
    {
     "name": "stderr",
     "output_type": "stream",
     "text": [
      "WARNING: redefining constant Vo\n",
      "WARNING: redefining constant xLf\n",
      "WARNING: redefining constant FltZ\n",
      "WARNING: redefining constant FltX\n"
     ]
    },
    {
     "name": "stdout",
     "output_type": "stream",
     "text": [
      "\n",
      "Setup Complete\n",
      "  2.690840 seconds (2.86 M allocations: 458.399 MiB, 5.32% gc time)\n",
      "isolver 2"
     ]
    },
    {
     "name": "stderr",
     "output_type": "stream",
     "text": [
      "WARNING: redefining constant iFBC\n",
      "WARNING: redefining constant FltIglobBC\n"
     ]
    },
    {
     "name": "stdout",
     "output_type": "stream",
     "text": [
      "\n",
      "isolver 2\n",
      "isolver 2\n",
      "isolver 2\n",
      "isolver 2\n",
      "isolver 2\n",
      "isolver 2\n",
      "isolver 2\n",
      "isolver 2\n",
      "isolver 2\n",
      "isolver 2\n",
      "isolver 2\n",
      "isolver 2\n",
      "isolver 2\n",
      "isolver 2\n",
      "isolver 2\n",
      "isolver 2\n",
      "isolver 2\n",
      "isolver 2\n",
      "isolver 2\n",
      "isolver 2\n",
      "\n",
      "Time (yr) = 2.5001e-07isolver 2\n",
      "isolver 2\n",
      "isolver 2\n",
      "isolver 2\n",
      "isolver 2\n",
      "isolver 2\n",
      "isolver 2\n",
      "isolver 2\n",
      "isolver 2\n",
      "isolver 2\n",
      "isolver 2\n",
      "isolver 2\n",
      "isolver 2\n",
      "isolver 2\n",
      "isolver 2\n",
      "isolver 2\n",
      "isolver 2\n",
      "isolver 2\n",
      "isolver 2\n",
      "isolver 2\n",
      "isolver 2\n",
      "isolver 2\n",
      "isolver 2\n",
      "isolver 2\n",
      "isolver 2\n",
      "isolver 2\n",
      "isolver 2\n",
      "isolver 2\n",
      "isolver 2\n",
      "isolver 2\n",
      "isolver 2\n",
      "isolver 2\n",
      "isolver 2\n",
      "isolver 2\n",
      "isolver 2\n",
      "isolver 2\n",
      "isolver 2\n",
      "isolver 2\n",
      "isolver 2\n",
      "isolver 2\n",
      "\n",
      "Time (yr) = 3.0691e-07isolver 2\n",
      "isolver 2\n",
      "isolver 2\n",
      "isolver 2\n",
      "isolver 2\n",
      "isolver 2\n",
      "isolver 2\n",
      "isolver 2\n",
      "isolver 2\n",
      "isolver 2\n",
      "isolver 2\n",
      "isolver 2\n",
      "isolver 2\n",
      "isolver 2\n",
      "isolver 2\n",
      "isolver 2\n",
      "isolver 2\n",
      "isolver 2\n",
      "isolver 2\n",
      "isolver 2\n",
      "\n",
      "Simulation Complete\n",
      " 21.019576 seconds (194.54 M allocations: 44.149 GiB, 15.48% gc time)\n"
     ]
    }
   ],
   "source": [
    "@time include(\"src/setup.jl\")\n",
    "@time include(\"src/timesolver.jl\")"
   ]
  },
  {
   "cell_type": "code",
   "execution_count": 103,
   "metadata": {},
   "outputs": [
    {
     "data": {
      "text/plain": [
       "9801-element Array{Float64,1}:\n",
       " 0.0       \n",
       " 0.0       \n",
       " 0.0       \n",
       " 0.0       \n",
       " 0.0       \n",
       " 1.44777e-5\n",
       " 1.44812e-5\n",
       " 1.44982e-5\n",
       " 1.45205e-5\n",
       " 1.45374e-5\n",
       " 4.19134e-5\n",
       " 4.19197e-5\n",
       " 4.19557e-5\n",
       " ⋮         \n",
       " 0.00279927\n",
       " 0.00280224\n",
       " 0.00280374\n",
       " 0.00280395\n",
       " 0.00279795\n",
       " 0.00280091\n",
       " 0.00280241\n",
       " 0.00280261\n",
       " 0.00279777\n",
       " 0.00280073\n",
       " 0.00280223\n",
       " 0.00280243"
      ]
     },
     "execution_count": 103,
     "metadata": {},
     "output_type": "execute_result"
    }
   ],
   "source": [
    "d"
   ]
  },
  {
   "cell_type": "markdown",
   "metadata": {},
   "source": [
    "<h3> Dynamic earthquake debugging"
   ]
  },
  {
   "cell_type": "code",
   "execution_count": 104,
   "metadata": {},
   "outputs": [
    {
     "data": {
      "text/plain": [
       "9801-element SubArray{Float64,1,Array{Float64,1},Tuple{Base.Slice{Base.OneTo{Int64}}},true}:\n",
       " 0.0\n",
       " 0.0\n",
       " 0.0\n",
       " 0.0\n",
       " 0.0\n",
       " 0.0\n",
       " 0.0\n",
       " 0.0\n",
       " 0.0\n",
       " 0.0\n",
       " 0.0\n",
       " 0.0\n",
       " 0.0\n",
       " ⋮  \n",
       " 0.0\n",
       " 0.0\n",
       " 0.0\n",
       " 0.0\n",
       " 0.0\n",
       " 0.0\n",
       " 0.0\n",
       " 0.0\n",
       " 0.0\n",
       " 0.0\n",
       " 0.0\n",
       " 0.0"
      ]
     },
     "execution_count": 104,
     "metadata": {},
     "output_type": "execute_result"
    }
   ],
   "source": [
    " dPre .= d[:]\n",
    "        vPre .= v[:]\n",
    "\n",
    "        # Update\n",
    "        d .= d .+ dt.*v .+ (half_dt_sq).*a\n",
    "\n",
    "        # Prediction\n",
    "        v .= v .+ half_dt.*a\n",
    "        a[:] .= 0"
   ]
  },
  {
   "cell_type": "code",
   "execution_count": 105,
   "metadata": {},
   "outputs": [
    {
     "data": {
      "text/plain": [
       "9801-element Array{Float64,1}:\n",
       " 0.0       \n",
       " 0.0       \n",
       " 0.0       \n",
       " 0.0       \n",
       " 0.0       \n",
       " 1.44811e-5\n",
       " 1.4651e-5 \n",
       " 1.46649e-5\n",
       " 1.46904e-5\n",
       " 1.47117e-5\n",
       " 4.19214e-5\n",
       " 4.24088e-5\n",
       " 4.24473e-5\n",
       " ⋮         \n",
       " 0.0028322 \n",
       " 0.0028352 \n",
       " 0.00283672\n",
       " 0.00283693\n",
       " 0.00283086\n",
       " 0.00283386\n",
       " 0.00283537\n",
       " 0.00283558\n",
       " 0.00279719\n",
       " 0.00280015\n",
       " 0.00280165\n",
       " 0.00280185"
      ]
     },
     "execution_count": 105,
     "metadata": {},
     "output_type": "execute_result"
    }
   ],
   "source": [
    "d"
   ]
  },
  {
   "cell_type": "code",
   "execution_count": null,
   "metadata": {},
   "outputs": [],
   "source": []
  },
  {
   "cell_type": "code",
   "execution_count": null,
   "metadata": {},
   "outputs": [],
   "source": []
  },
  {
   "cell_type": "code",
   "execution_count": null,
   "metadata": {},
   "outputs": [],
   "source": []
  },
  {
   "cell_type": "code",
   "execution_count": null,
   "metadata": {},
   "outputs": [],
   "source": []
  },
  {
   "cell_type": "code",
   "execution_count": null,
   "metadata": {},
   "outputs": [],
   "source": [
    "for eo = 1:Nel\n",
    "            \n",
    "            # Switch to local element representation\n",
    "            ig = iglob[:,:,eo]\n",
    "            isETA = eo<=Nel_ETA\n",
    "            if isETA\n",
    "                locall = d[ig] + eta.*v[ig]\n",
    "            else\n",
    "                locall = d[ig]\n",
    "            end\n",
    "            # Gradients wrt local variables\n",
    "            d_xi = Ht*locall\n",
    "            d_eta = locall*H\n",
    "        \n",
    "            # Element contribution\n",
    "            wloc = W[:,:,eo]\n",
    "            d_xi = wloc.*d_xi\n",
    "            d_xi = H*d_xi\n",
    "            d_eta = wloc.*d_eta\n",
    "            d_eta = d_eta*Ht\n",
    "            locall = coefint1*d_xi + coefint2*d_eta\n",
    "\n",
    "            # Assemble into global vector\n",
    "            a[ig] = a[ig] - locall\n",
    "        end\n",
    "\n"
   ]
  },
  {
   "cell_type": "code",
   "execution_count": 84,
   "metadata": {},
   "outputs": [
    {
     "data": {
      "text/plain": [
       "5×5 Array{Float64,2}:\n",
       " 0.0  1.45226e-5  4.20421e-5  6.95211e-5  8.39909e-5\n",
       " 0.0  1.4651e-5   4.24092e-5  7.01282e-5  8.47254e-5\n",
       " 0.0  1.46657e-5  4.24472e-5  7.01913e-5  8.48065e-5\n",
       " 0.0  1.46904e-5  4.25258e-5  7.03266e-5  8.49704e-5\n",
       " 0.0  1.47106e-5  4.25857e-5  7.04246e-5  8.50857e-5"
      ]
     },
     "execution_count": 84,
     "metadata": {},
     "output_type": "execute_result"
    }
   ],
   "source": [
    "isETA = eo<=Nel_ETA\n",
    "            if isETA\n",
    "                locall = d[ig] + eta.*v[ig]\n",
    "            else\n",
    "                locall = d[ig]\n",
    "            end"
   ]
  },
  {
   "cell_type": "code",
   "execution_count": 85,
   "metadata": {},
   "outputs": [
    {
     "data": {
      "text/plain": [
       "9801-element Array{Float64,1}:\n",
       " 0.0       \n",
       " 0.0       \n",
       " 0.0       \n",
       " 0.0       \n",
       " 0.0       \n",
       " 1.45226e-5\n",
       " 1.4651e-5 \n",
       " 1.46657e-5\n",
       " 1.46904e-5\n",
       " 1.47106e-5\n",
       " 4.20421e-5\n",
       " 4.24092e-5\n",
       " 4.24472e-5\n",
       " ⋮         \n",
       " 0.0028322 \n",
       " 0.0028352 \n",
       " 0.00283672\n",
       " 0.00283693\n",
       " 0.00283086\n",
       " 0.00283386\n",
       " 0.00283537\n",
       " 0.00283558\n",
       " 0.00280556\n",
       " 0.00280853\n",
       " 0.00281003\n",
       " 0.00281024"
      ]
     },
     "execution_count": 85,
     "metadata": {},
     "output_type": "execute_result"
    }
   ],
   "source": [
    "d"
   ]
  },
  {
   "cell_type": "code",
   "execution_count": null,
   "metadata": {},
   "outputs": [],
   "source": []
  },
  {
   "cell_type": "code",
   "execution_count": null,
   "metadata": {},
   "outputs": [],
   "source": []
  },
  {
   "cell_type": "code",
   "execution_count": null,
   "metadata": {},
   "outputs": [],
   "source": []
  },
  {
   "cell_type": "code",
   "execution_count": null,
   "metadata": {},
   "outputs": [],
   "source": [
    " a[FltIglobBC] .= 0\n",
    "\n",
    "        # Absorbing boundaries\n",
    "        a[iBcL] .= a[iBcL] .- BcLC.*v[iBcL]\n",
    "        a[iBcT] .= a[iBcT] .- BcTC.*v[iBcT];"
   ]
  },
  {
   "cell_type": "code",
   "execution_count": null,
   "metadata": {},
   "outputs": [],
   "source": []
  },
  {
   "cell_type": "code",
   "execution_count": null,
   "metadata": {},
   "outputs": [],
   "source": []
  },
  {
   "cell_type": "code",
   "execution_count": null,
   "metadata": {},
   "outputs": [],
   "source": []
  },
  {
   "cell_type": "code",
   "execution_count": null,
   "metadata": {},
   "outputs": [],
   "source": []
  },
  {
   "cell_type": "code",
   "execution_count": null,
   "metadata": {},
   "outputs": [],
   "source": []
  },
  {
   "cell_type": "code",
   "execution_count": null,
   "metadata": {},
   "outputs": [],
   "source": []
  },
  {
   "cell_type": "code",
   "execution_count": null,
   "metadata": {},
   "outputs": [],
   "source": [
    "include(\"src/PCG.jl\")\n",
    "include(\"src/dtevol.jl\")\n",
    "include(\"src/NRsearch.jl\")\n",
    "include(\"src/otherFunctions.jl\")\n",
    "\n",
    "vPre = v[:]\n",
    "        dPre = d[:]\n",
    "\n",
    "        Vf0 = 2*v[iFlt] + Vpl\n",
    "        Vf = Vf0[:];"
   ]
  },
  {
   "cell_type": "code",
   "execution_count": null,
   "metadata": {},
   "outputs": [],
   "source": [
    "temp"
   ]
  },
  {
   "cell_type": "code",
   "execution_count": null,
   "metadata": {},
   "outputs": [],
   "source": []
  },
  {
   "cell_type": "markdown",
   "metadata": {},
   "source": [
    "<h3> PCG debug"
   ]
  },
  {
   "cell_type": "code",
   "execution_count": null,
   "metadata": {},
   "outputs": [],
   "source": []
  }
 ],
 "metadata": {
  "kernelspec": {
   "display_name": "Julia 0.6.0",
   "language": "julia",
   "name": "julia-0.6"
  },
  "language_info": {
   "file_extension": ".jl",
   "mimetype": "application/julia",
   "name": "julia",
   "version": "0.6.0"
  }
 },
 "nbformat": 4,
 "nbformat_minor": 2
}
