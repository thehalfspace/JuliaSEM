{
 "cells": [
  {
   "cell_type": "markdown",
   "metadata": {},
   "source": [
    "<h1> Earthquake Cycle Simulations"
   ]
  },
  {
   "cell_type": "code",
   "execution_count": 16,
   "metadata": {},
   "outputs": [
    {
     "name": "stdout",
     "output_type": "stream",
     "text": [
      "Total number of nodes on fault = 121\n",
      "Average node spacing = 400.0\n",
      "dt = 0.04486312014474891"
     ]
    },
    {
     "name": "stderr",
     "output_type": "stream",
     "text": [
      "WARNING: redefining constant Vo\n",
      "WARNING: redefining constant xLf\n",
      "WARNING: redefining constant FltZ\n",
      "WARNING: redefining constant FltX\n"
     ]
    },
    {
     "name": "stdout",
     "output_type": "stream",
     "text": [
      "\n",
      "Setup Complete\n",
      "  2.336989 seconds (2.86 M allocations: 458.406 MiB, 5.02% gc time)\n"
     ]
    },
    {
     "name": "stderr",
     "output_type": "stream",
     "text": [
      "WARNING: redefining constant iFBC\n",
      "WARNING: redefining constant FltIglobBC\n"
     ]
    }
   ],
   "source": [
    "@time include(\"src/setup.jl\")"
   ]
  },
  {
   "cell_type": "code",
   "execution_count": 17,
   "metadata": {},
   "outputs": [
    {
     "name": "stdout",
     "output_type": "stream",
     "text": [
      "\n",
      "Time (yr) = 0.0048341\n",
      "Time (yr) = 48.776\n",
      "Time (yr) = 96.566\n",
      "Time (yr) = 119.44\n",
      "Time (yr) = 139.27\n",
      "Time (yr) = 139.85\n",
      "Time (yr) = 140.65\n",
      "Time (yr) = 143.26\n",
      "Time (yr) = 143.26\n",
      "Time (yr) = 143.26\n",
      "Time (yr) = 143.26\n",
      "Time (yr) = 143.26\n",
      "Time (yr) = 143.3\n",
      "Time (yr) = 169.3\n",
      "Time (yr) = 211.56\n",
      "Time (yr) = 236.25\n",
      "Time (yr) = 238.53\n",
      "Time (yr) = 265.26\n",
      "Time (yr) = 267.02\n",
      "Time (yr) = 267.02\n",
      "Time (yr) = 267.02\n",
      "Time (yr) = 267.02\n",
      "Time (yr) = 267.02\n",
      "Time (yr) = 267.02\n",
      "Time (yr) = 267.02\n",
      "Time (yr) = 267.02\n",
      "Time (yr) = 267.02\n",
      "Time (yr) = 267.02\n",
      "Time (yr) = 267.02\n",
      "Time (yr) = 267.02\n",
      "Time (yr) = 267.02\n",
      "Time (yr) = 267.02\n",
      "Time (yr) = 267.02\n",
      "Time (yr) = 267.02\n",
      "Time (yr) = 267.11\n",
      "Time (yr) = 294.23\n",
      "Time (yr) = 336.01\n",
      "Time (yr) = 360.32\n",
      "Time (yr) = 368.98\n",
      "Time (yr) = 388.93\n",
      "Time (yr) = 388.94\n",
      "Time (yr) = 388.95\n",
      "Time (yr) = 388.95\n",
      "Time (yr) = 388.95\n",
      "Time (yr) = 388.95\n",
      "Time (yr) = 388.95\n",
      "Time (yr) = 388.95\n",
      "Time (yr) = 388.95\n",
      "Time (yr) = 388.95\n",
      "Time (yr) = 388.95\n",
      "Time (yr) = 388.95\n",
      "Time (yr) = 388.95\n",
      "Time (yr) = 388.95\n",
      "Time (yr) = 388.95\n",
      "Time (yr) = 398.36\n",
      "Time (yr) = 447.46\n",
      "Time (yr) = 471.4\n",
      "Time (yr) = 479.33\n",
      "Time (yr) = 505.49\n",
      "Time (yr) = 509.38\n",
      "Time (yr) = 509.38\n",
      "Time (yr) = 509.38\n",
      "Time (yr) = 509.38\n",
      "Time (yr) = 509.38\n",
      "Time (yr) = 509.38\n",
      "Time (yr) = 509.38\n",
      "Time (yr) = 509.38\n",
      "Time (yr) = 509.38\n",
      "Time (yr) = 509.38\n",
      "Time (yr) = 509.38\n",
      "Time (yr) = 509.38\n",
      "Time (yr) = 509.38\n",
      "Time (yr) = 509.38\n",
      "Time (yr) = 509.38\n",
      "Time (yr) = 509.38\n",
      "Time (yr) = 509.38\n",
      "Time (yr) = 513.92\n",
      "Time (yr) = 558.55\n",
      "Time (yr) = 583.39\n",
      "Time (yr) = 606.61\n",
      "Time (yr) = 613.86\n",
      "Time (yr) = 636.08\n",
      "Time (yr) = 636.08\n",
      "Time (yr) = 636.08\n",
      "Time (yr) = 636.08\n",
      "Time (yr) = 636.08\n",
      "Time (yr) = 636.08\n",
      "Time (yr) = 636.08\n",
      "Time (yr) = 636.08\n",
      "Time (yr) = 636.08\n",
      "Time (yr) = 636.09\n",
      "Time (yr) = 644.39\n",
      "Time (yr) = 686.71\n",
      "Time (yr) = 714.97\n",
      "Time (yr) = 732.18\n",
      "Time (yr) = 752.94\n",
      "Time (yr) = 761.61\n",
      "Time (yr) = 761.61\n",
      "Time (yr) = 761.61\n",
      "Time (yr) = 761.61\n",
      "Time (yr) = 761.61\n",
      "Time (yr) = 761.61\n",
      "Time (yr) = 761.61\n",
      "Time (yr) = 761.61\n",
      "Time (yr) = 761.61\n",
      "Time (yr) = 761.61\n",
      "Time (yr) = 761.61\n",
      "Time (yr) = 761.61\n",
      "Time (yr) = 761.67\n",
      "Time (yr) = 788.24\n",
      "Time (yr) = 820.19\n",
      "Time (yr) = 848.24\n",
      "Time (yr) = 848.47\n",
      "Time (yr) = 876.72\n",
      "Time (yr) = 883.71\n",
      "Time (yr) = 883.71\n",
      "Time (yr) = 883.71\n",
      "Time (yr) = 883.71\n",
      "Time (yr) = 883.71\n",
      "Time (yr) = 883.71\n",
      "Time (yr) = 883.71\n",
      "Time (yr) = 883.71\n",
      "Time (yr) = 883.71\n",
      "Time (yr) = 883.71\n",
      "Time (yr) = 883.71\n",
      "Time (yr) = 883.71\n",
      "Time (yr) = 883.71\n",
      "Time (yr) = 883.71\n",
      "Time (yr) = 883.71\n",
      "Time (yr) = 883.71\n",
      "Time (yr) = 883.82\n",
      "Time (yr) = 912.38\n",
      "Time (yr) = 950.44\n",
      "Time (yr) = 976.11\n",
      "Time (yr) = 976.88\n",
      "Simulation Complete\n",
      "5301.860257 seconds (50.13 G allocations: 10.625 TiB, 10.36% gc time)\n"
     ]
    }
   ],
   "source": [
    "@time include(\"src/timesolver.jl\")"
   ]
  },
  {
   "cell_type": "markdown",
   "metadata": {},
   "source": [
    "<h3> Save the variables to data folder"
   ]
  },
  {
   "cell_type": "code",
   "execution_count": 105,
   "metadata": {},
   "outputs": [],
   "source": [
    "using JLD\n",
    "\n",
    "@save \"data/testing/test02.jld\""
   ]
  },
  {
   "cell_type": "code",
   "execution_count": null,
   "metadata": {},
   "outputs": [],
   "source": []
  },
  {
   "cell_type": "code",
   "execution_count": null,
   "metadata": {},
   "outputs": [],
   "source": []
  },
  {
   "cell_type": "code",
   "execution_count": null,
   "metadata": {},
   "outputs": [],
   "source": []
  },
  {
   "cell_type": "code",
   "execution_count": 106,
   "metadata": {},
   "outputs": [
    {
     "ename": "LoadError",
     "evalue": "\u001b[91mPyError (ccall(@pysym(:PyObject_Call), PyPtr, (PyPtr, PyPtr, PyPtr), o, arg, C_NULL)) <type 'exceptions.TypeError'>\nTypeError(\"'module' object is not callable\",)\n\u001b[39m",
     "output_type": "error",
     "traceback": [
      "\u001b[91mPyError (ccall(@pysym(:PyObject_Call), PyPtr, (PyPtr, PyPtr, PyPtr), o, arg, C_NULL)) <type 'exceptions.TypeError'>\nTypeError(\"'module' object is not callable\",)\n\u001b[39m",
      "",
      "Stacktrace:",
      " [1] \u001b[1mpyerr_check\u001b[22m\u001b[22m at \u001b[1m/Users/prith/.julia/v0.6/PyCall/src/exception.jl:58\u001b[22m\u001b[22m [inlined]",
      " [2] \u001b[1mpyerr_check\u001b[22m\u001b[22m at \u001b[1m/Users/prith/.julia/v0.6/PyCall/src/exception.jl:62\u001b[22m\u001b[22m [inlined]",
      " [3] \u001b[1mmacro expansion\u001b[22m\u001b[22m at \u001b[1m/Users/prith/.julia/v0.6/PyCall/src/exception.jl:82\u001b[22m\u001b[22m [inlined]",
      " [4] \u001b[1m#_pycall#88\u001b[22m\u001b[22m\u001b[1m(\u001b[22m\u001b[22m::Array{Any,1}, ::Function, ::PyCall.PyObject, ::Array{Float64,1}, ::Vararg{Array{Float64,1},N} where N\u001b[1m)\u001b[22m\u001b[22m at \u001b[1m/Users/prith/.julia/v0.6/PyCall/src/PyCall.jl:710\u001b[22m\u001b[22m",
      " [5] \u001b[1m_pycall\u001b[22m\u001b[22m\u001b[1m(\u001b[22m\u001b[22m::PyCall.PyObject, ::Array{Float64,1}, ::Vararg{Array{Float64,1},N} where N\u001b[1m)\u001b[22m\u001b[22m at \u001b[1m/Users/prith/.julia/v0.6/PyCall/src/PyCall.jl:698\u001b[22m\u001b[22m",
      " [6] \u001b[1m#pycall#92\u001b[22m\u001b[22m\u001b[1m(\u001b[22m\u001b[22m::Array{Any,1}, ::Function, ::PyCall.PyObject, ::Type{PyCall.PyAny}, ::Array{Float64,1}, ::Vararg{Array{Float64,1},N} where N\u001b[1m)\u001b[22m\u001b[22m at \u001b[1m/Users/prith/.julia/v0.6/PyCall/src/PyCall.jl:732\u001b[22m\u001b[22m",
      " [7] \u001b[1mpycall\u001b[22m\u001b[22m\u001b[1m(\u001b[22m\u001b[22m::PyCall.PyObject, ::Type{PyCall.PyAny}, ::Array{Float64,1}, ::Vararg{Array{Float64,1},N} where N\u001b[1m)\u001b[22m\u001b[22m at \u001b[1m/Users/prith/.julia/v0.6/PyCall/src/PyCall.jl:732\u001b[22m\u001b[22m",
      " [8] \u001b[1m#call#93\u001b[22m\u001b[22m\u001b[1m(\u001b[22m\u001b[22m::Array{Any,1}, ::PyCall.PyObject, ::Array{Float64,1}, ::Vararg{Array{Float64,1},N} where N\u001b[1m)\u001b[22m\u001b[22m at \u001b[1m/Users/prith/.julia/v0.6/PyCall/src/PyCall.jl:735\u001b[22m\u001b[22m",
      " [9] \u001b[1m(::PyCall.PyObject)\u001b[22m\u001b[22m\u001b[1m(\u001b[22m\u001b[22m::Array{Float64,1}, ::Vararg{Array{Float64,1},N} where N\u001b[1m)\u001b[22m\u001b[22m at \u001b[1m/Users/prith/.julia/v0.6/PyCall/src/PyCall.jl:735\u001b[22m\u001b[22m"
     ]
    }
   ],
   "source": [
    "using PyPlot\n",
    "PyPlot.plt(delf5yr[:,1], FltX/1e3)"
   ]
  },
  {
   "cell_type": "code",
   "execution_count": 107,
   "metadata": {},
   "outputs": [
    {
     "data": {
      "text/plain": [
       "121-element Array{Float64,1}:\n",
       " -48000.0  \n",
       " -47723.7  \n",
       " -47200.0  \n",
       " -46676.3  \n",
       " -46400.0  \n",
       " -46123.7  \n",
       " -45600.0  \n",
       " -45076.3  \n",
       " -44800.0  \n",
       " -44523.7  \n",
       " -44000.0  \n",
       " -43476.3  \n",
       " -43200.0  \n",
       "      ⋮    \n",
       "  -4523.72 \n",
       "  -4000.0  \n",
       "  -3476.28 \n",
       "  -3200.0  \n",
       "  -2923.72 \n",
       "  -2400.0  \n",
       "  -1876.28 \n",
       "  -1600.0  \n",
       "  -1323.72 \n",
       "   -800.0  \n",
       "   -276.277\n",
       "      0.0  "
      ]
     },
     "execution_count": 107,
     "metadata": {},
     "output_type": "execute_result"
    }
   ],
   "source": [
    "FltX"
   ]
  },
  {
   "cell_type": "code",
   "execution_count": null,
   "metadata": {},
   "outputs": [],
   "source": []
  }
 ],
 "metadata": {
  "kernelspec": {
   "display_name": "Julia 0.6.0",
   "language": "julia",
   "name": "julia-0.6"
  },
  "language_info": {
   "file_extension": ".jl",
   "mimetype": "application/julia",
   "name": "julia",
   "version": "0.6.0"
  }
 },
 "nbformat": 4,
 "nbformat_minor": 2
}
