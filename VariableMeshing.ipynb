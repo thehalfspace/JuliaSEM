{
 "cells": [
  {
   "cell_type": "markdown",
   "metadata": {},
   "source": [
    "<h1><center> Rectangular meshing with variable size"
   ]
  },
  {
   "cell_type": "markdown",
   "metadata": {},
   "source": [
    "<h3> Plot mesh"
   ]
  },
  {
   "cell_type": "code",
   "execution_count": null,
   "metadata": {},
   "outputs": [],
   "source": [
    "#using PyPlot\n",
    "x = x - LX;"
   ]
  },
  {
   "cell_type": "code",
   "execution_count": null,
   "metadata": {},
   "outputs": [],
   "source": [
    "plot(x,y,\".\")\n",
    "#xlim([10000,30000])\n",
    "#ylim([10000,30000])\n",
    "show()"
   ]
  },
  {
   "cell_type": "code",
   "execution_count": null,
   "metadata": {},
   "outputs": [],
   "source": [
    "#plot(M[iFlt], FltX/1e3, \".\")"
   ]
  },
  {
   "cell_type": "code",
   "execution_count": 1,
   "metadata": {},
   "outputs": [
    {
     "name": "stdout",
     "output_type": "stream",
     "text": [
      "Total number of nodes on fault = 121\n",
      "Average node spacing = 400.0\n",
      "dt = 0.00196746710271227\n",
      "Setup Complete\n",
      " 10.532366 seconds (12.99 M allocations: 1.033 GiB, 2.95% gc time)\n"
     ]
    }
   ],
   "source": [
    "@time include(\"src/setup.jl\")"
   ]
  },
  {
   "cell_type": "code",
   "execution_count": 4,
   "metadata": {},
   "outputs": [],
   "source": [
    "#@time include(\"src/timesolver.jl\")\n",
    "Vf0 = zeros(length(iFlt))\n",
    "FltVfree = zeros(length(iFlt));"
   ]
  },
  {
   "cell_type": "code",
   "execution_count": null,
   "metadata": {},
   "outputs": [],
   "source": [
    "vPre .= v[:]\n",
    "        dPre .= d[:]\n",
    "\n",
    "        Vf0 .= 2*v[iFlt] + Vpl\n",
    "        Vf  .= Vf0[:];"
   ]
  },
  {
   "cell_type": "code",
   "execution_count": null,
   "metadata": {
    "collapsed": true
   },
   "outputs": [],
   "source": [
    " F[:] .= 0\n",
    "            F[iFlt] .= dPre[iFlt] .+ v[iFlt]*dt\n",
    "\n",
    "            # Assign previous displacement field as initial guess\n",
    "            dnew .= d[FltNI];"
   ]
  },
  {
   "cell_type": "code",
   "execution_count": null,
   "metadata": {},
   "outputs": [],
   "source": []
  },
  {
   "cell_type": "code",
   "execution_count": null,
   "metadata": {},
   "outputs": [],
   "source": [
    "dnew = PCG(coefint1, coefint2, diagKnew, dnew, F, iFlt, FltNI,\n",
    "                          H, Ht, iglob, Nel, nglob, W)"
   ]
  },
  {
   "cell_type": "code",
   "execution_count": null,
   "metadata": {
    "collapsed": true
   },
   "outputs": [],
   "source": []
  }
 ],
 "metadata": {
  "kernelspec": {
   "display_name": "Julia 0.6.0",
   "language": "julia",
   "name": "julia-0.6"
  },
  "language_info": {
   "file_extension": ".jl",
   "mimetype": "application/julia",
   "name": "julia",
   "version": "0.6.0"
  }
 },
 "nbformat": 4,
 "nbformat_minor": 2
}
